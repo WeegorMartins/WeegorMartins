{
  "nbformat": 4,
  "nbformat_minor": 0,
  "metadata": {
    "colab": {
      "provenance": [],
      "authorship_tag": "ABX9TyOGqwEyTuuCGVUQwikjzh64",
      "include_colab_link": true
    },
    "kernelspec": {
      "name": "python3",
      "display_name": "Python 3"
    },
    "language_info": {
      "name": "python"
    }
  },
  "cells": [
    {
      "cell_type": "markdown",
      "metadata": {
        "id": "view-in-github",
        "colab_type": "text"
      },
      "source": [
        "<a href=\"https://colab.research.google.com/github/WeegorMartins/WeegorMartins/blob/main/Recomenda%C3%A7%C3%A3o_de_Produtos.ipynb\" target=\"_parent\"><img src=\"https://colab.research.google.com/assets/colab-badge.svg\" alt=\"Open In Colab\"/></a>"
      ]
    },
    {
      "cell_type": "code",
      "source": [
        "import pandas as pd\n",
        "import zipfile\n",
        "import os"
      ],
      "metadata": {
        "id": "Xj0Zu0emA9gW"
      },
      "execution_count": 1,
      "outputs": []
    },
    {
      "cell_type": "code",
      "source": [
        "zip_file_path = '/content/7817_1.csv.zip'\n",
        "with zipfile.ZipFile(zip_file_path, 'r') as zip_ref:\n",
        "    zip_ref.extractall('/content/')\n",
        "    extracted_files = zip_ref.namelist()\n",
        "print('Arquivos extraídos:', extracted_files)"
      ],
      "metadata": {
        "colab": {
          "base_uri": "https://localhost:8080/"
        },
        "id": "k4jfYZVnBAtZ",
        "outputId": "3b918882-bf36-4c97-dc5c-254c57ec6b2f"
      },
      "execution_count": 2,
      "outputs": [
        {
          "output_type": "stream",
          "name": "stdout",
          "text": [
            "Arquivos extraídos: ['7817_1.csv']\n"
          ]
        }
      ]
    },
    {
      "cell_type": "code",
      "source": [
        "csv_file_path = '/content/' + extracted_files[0]\n",
        "df = pd.read_csv(csv_file_path)"
      ],
      "metadata": {
        "id": "FnJpbC4LBHqy"
      },
      "execution_count": 3,
      "outputs": []
    },
    {
      "cell_type": "code",
      "source": [
        "irrelevant_cols = ['id', 'asins', 'dateAdded', 'dateUpdated', 'ean', 'keys', 'manufacturerNumber',\n",
        "                   'sizes', 'upc', 'weight', 'reviews.sourceURLs', 'reviews.userCity', 'reviews.userProvince']\n",
        "df = df.drop(columns=[col for col in irrelevant_cols if col in df.columns])\n",
        "print(\"Colunas após remoção de irrelevantes:\", df.columns)"
      ],
      "metadata": {
        "colab": {
          "base_uri": "https://localhost:8080/"
        },
        "id": "N0I8VGuSBL3F",
        "outputId": "812c11ad-efb8-45e6-8b50-cea8ac002824"
      },
      "execution_count": 4,
      "outputs": [
        {
          "output_type": "stream",
          "name": "stdout",
          "text": [
            "Colunas após remoção de irrelevantes: Index(['brand', 'categories', 'colors', 'dimension', 'manufacturer', 'name',\n",
            "       'prices', 'reviews.date', 'reviews.doRecommend', 'reviews.numHelpful',\n",
            "       'reviews.rating', 'reviews.text', 'reviews.title', 'reviews.username'],\n",
            "      dtype='object')\n"
          ]
        }
      ]
    },
    {
      "cell_type": "code",
      "source": [
        "import nltk\n",
        "import re\n",
        "from nltk.corpus import stopwords\n",
        "nltk.download('stopwords')\n",
        "stop_words = set(stopwords.words('english'))\n",
        "def clean_text(text):\n",
        "    text = re.sub(r'[^a-zA-Z\\s]', '', text)\n",
        "    text = text.lower()\n",
        "    text_tokens = text.split()\n",
        "    cleaned_text = ' '.join([word for word in text_tokens if word not in stop_words])\n",
        "    return cleaned_text\n",
        "df['cleaned_reviews'] = df['reviews.text'].apply(lambda x: clean_text(str(x)))\n",
        "print(df[['reviews.text', 'cleaned_reviews']].head())"
      ],
      "metadata": {
        "colab": {
          "base_uri": "https://localhost:8080/"
        },
        "id": "yRZcE-JdBdIm",
        "outputId": "307252f3-c3fb-4a0a-b1f8-1e2fb6c2edbf"
      },
      "execution_count": 6,
      "outputs": [
        {
          "output_type": "stream",
          "name": "stdout",
          "text": [
            "                                        reviews.text  \\\n",
            "0  I initially had trouble deciding between the p...   \n",
            "1  Allow me to preface this with a little history...   \n",
            "2  I am enjoying it so far. Great for reading. Ha...   \n",
            "3  I bought one of the first Paperwhites and have...   \n",
            "4  I have to say upfront - I don't like coroporat...   \n",
            "\n",
            "                                     cleaned_reviews  \n",
            "0  initially trouble deciding paperwhite voyage r...  \n",
            "1  allow preface little history casual reader own...  \n",
            "2  enjoying far great reading original fire since...  \n",
            "3  bought one first paperwhites pleased constant ...  \n",
            "4  say upfront dont like coroporate hermetically ...  \n"
          ]
        },
        {
          "output_type": "stream",
          "name": "stderr",
          "text": [
            "[nltk_data] Downloading package stopwords to /root/nltk_data...\n",
            "[nltk_data]   Package stopwords is already up-to-date!\n"
          ]
        }
      ]
    },
    {
      "cell_type": "code",
      "source": [
        "df = pd.read_csv('/content/7817_1.csv')\n",
        "print(df.head())\n",
        "print(df.info())"
      ],
      "metadata": {
        "colab": {
          "base_uri": "https://localhost:8080/"
        },
        "id": "LHqNmpnZBnyy",
        "outputId": "d232d178-8d0d-4e49-9f90-f8073090f725"
      },
      "execution_count": 7,
      "outputs": [
        {
          "output_type": "stream",
          "name": "stdout",
          "text": [
            "                     id       asins   brand                  categories  \\\n",
            "0  AVpe7AsMilAPnD_xQ78G  B00QJDU3KY  Amazon  Amazon Devices,mazon.co.uk   \n",
            "1  AVpe7AsMilAPnD_xQ78G  B00QJDU3KY  Amazon  Amazon Devices,mazon.co.uk   \n",
            "2  AVpe7AsMilAPnD_xQ78G  B00QJDU3KY  Amazon  Amazon Devices,mazon.co.uk   \n",
            "3  AVpe7AsMilAPnD_xQ78G  B00QJDU3KY  Amazon  Amazon Devices,mazon.co.uk   \n",
            "4  AVpe7AsMilAPnD_xQ78G  B00QJDU3KY  Amazon  Amazon Devices,mazon.co.uk   \n",
            "\n",
            "  colors             dateAdded           dateUpdated  \\\n",
            "0    NaN  2016-03-08T20:21:53Z  2017-07-18T23:52:58Z   \n",
            "1    NaN  2016-03-08T20:21:53Z  2017-07-18T23:52:58Z   \n",
            "2    NaN  2016-03-08T20:21:53Z  2017-07-18T23:52:58Z   \n",
            "3    NaN  2016-03-08T20:21:53Z  2017-07-18T23:52:58Z   \n",
            "4    NaN  2016-03-08T20:21:53Z  2017-07-18T23:52:58Z   \n",
            "\n",
            "                  dimension  ean                         keys  ...  \\\n",
            "0  169 mm x 117 mm x 9.1 mm  NaN  kindlepaperwhite/b00qjdu3ky  ...   \n",
            "1  169 mm x 117 mm x 9.1 mm  NaN  kindlepaperwhite/b00qjdu3ky  ...   \n",
            "2  169 mm x 117 mm x 9.1 mm  NaN  kindlepaperwhite/b00qjdu3ky  ...   \n",
            "3  169 mm x 117 mm x 9.1 mm  NaN  kindlepaperwhite/b00qjdu3ky  ...   \n",
            "4  169 mm x 117 mm x 9.1 mm  NaN  kindlepaperwhite/b00qjdu3ky  ...   \n",
            "\n",
            "  reviews.rating                                 reviews.sourceURLs  \\\n",
            "0            5.0  https://www.amazon.com/Kindle-Paperwhite-High-...   \n",
            "1            5.0  https://www.amazon.com/Kindle-Paperwhite-High-...   \n",
            "2            4.0  https://www.amazon.com/Kindle-Paperwhite-High-...   \n",
            "3            5.0  https://www.amazon.com/Kindle-Paperwhite-High-...   \n",
            "4            5.0  https://www.amazon.com/Kindle-Paperwhite-High-...   \n",
            "\n",
            "                                        reviews.text  \\\n",
            "0  I initially had trouble deciding between the p...   \n",
            "1  Allow me to preface this with a little history...   \n",
            "2  I am enjoying it so far. Great for reading. Ha...   \n",
            "3  I bought one of the first Paperwhites and have...   \n",
            "4  I have to say upfront - I don't like coroporat...   \n",
            "\n",
            "                                reviews.title reviews.userCity  \\\n",
            "0              Paperwhite voyage, no regrets!              NaN   \n",
            "1           One Simply Could Not Ask For More              NaN   \n",
            "2  Great for those that just want an e-reader              NaN   \n",
            "3                    Love / Hate relationship              NaN   \n",
            "4                                   I LOVE IT              NaN   \n",
            "\n",
            "  reviews.userProvince    reviews.username  sizes upc     weight  \n",
            "0                  NaN          Cristina M    NaN NaN  205 grams  \n",
            "1                  NaN               Ricky    NaN NaN  205 grams  \n",
            "2                  NaN       Tedd Gardiner    NaN NaN  205 grams  \n",
            "3                  NaN              Dougal    NaN NaN  205 grams  \n",
            "4                  NaN  Miljan David Tanic    NaN NaN  205 grams  \n",
            "\n",
            "[5 rows x 27 columns]\n",
            "<class 'pandas.core.frame.DataFrame'>\n",
            "RangeIndex: 1597 entries, 0 to 1596\n",
            "Data columns (total 27 columns):\n",
            " #   Column                Non-Null Count  Dtype  \n",
            "---  ------                --------------  -----  \n",
            " 0   id                    1597 non-null   object \n",
            " 1   asins                 1597 non-null   object \n",
            " 2   brand                 1597 non-null   object \n",
            " 3   categories            1597 non-null   object \n",
            " 4   colors                774 non-null    object \n",
            " 5   dateAdded             1597 non-null   object \n",
            " 6   dateUpdated           1597 non-null   object \n",
            " 7   dimension             565 non-null    object \n",
            " 8   ean                   898 non-null    float64\n",
            " 9   keys                  1597 non-null   object \n",
            " 10  manufacturer          965 non-null    object \n",
            " 11  manufacturerNumber    902 non-null    object \n",
            " 12  name                  1597 non-null   object \n",
            " 13  prices                1597 non-null   object \n",
            " 14  reviews.date          1217 non-null   object \n",
            " 15  reviews.doRecommend   539 non-null    object \n",
            " 16  reviews.numHelpful    900 non-null    float64\n",
            " 17  reviews.rating        1177 non-null   float64\n",
            " 18  reviews.sourceURLs    1597 non-null   object \n",
            " 19  reviews.text          1597 non-null   object \n",
            " 20  reviews.title         1580 non-null   object \n",
            " 21  reviews.userCity      0 non-null      float64\n",
            " 22  reviews.userProvince  0 non-null      float64\n",
            " 23  reviews.username      1580 non-null   object \n",
            " 24  sizes                 0 non-null      float64\n",
            " 25  upc                   898 non-null    float64\n",
            " 26  weight                686 non-null    object \n",
            "dtypes: float64(7), object(20)\n",
            "memory usage: 337.0+ KB\n",
            "None\n"
          ]
        }
      ]
    },
    {
      "cell_type": "code",
      "source": [
        "relevant_columns = ['reviews.text', 'reviews.rating', 'reviews.numHelpful', 'reviews.username']\n",
        "df = df[relevant_columns]\n",
        "df['reviews.rating'].fillna(df['reviews.rating'].median(), inplace=True)\n",
        "df['reviews.text'].fillna('', inplace=True)\n",
        "print(df.info())\n",
        "print(df.head())"
      ],
      "metadata": {
        "colab": {
          "base_uri": "https://localhost:8080/"
        },
        "id": "ZcKe0oXCBw0i",
        "outputId": "8e254d5b-9c2c-48b5-ec79-c443f5842d09"
      },
      "execution_count": 8,
      "outputs": [
        {
          "output_type": "stream",
          "name": "stdout",
          "text": [
            "<class 'pandas.core.frame.DataFrame'>\n",
            "RangeIndex: 1597 entries, 0 to 1596\n",
            "Data columns (total 4 columns):\n",
            " #   Column              Non-Null Count  Dtype  \n",
            "---  ------              --------------  -----  \n",
            " 0   reviews.text        1597 non-null   object \n",
            " 1   reviews.rating      1597 non-null   float64\n",
            " 2   reviews.numHelpful  900 non-null    float64\n",
            " 3   reviews.username    1580 non-null   object \n",
            "dtypes: float64(2), object(2)\n",
            "memory usage: 50.0+ KB\n",
            "None\n",
            "                                        reviews.text  reviews.rating  \\\n",
            "0  I initially had trouble deciding between the p...             5.0   \n",
            "1  Allow me to preface this with a little history...             5.0   \n",
            "2  I am enjoying it so far. Great for reading. Ha...             4.0   \n",
            "3  I bought one of the first Paperwhites and have...             5.0   \n",
            "4  I have to say upfront - I don't like coroporat...             5.0   \n",
            "\n",
            "   reviews.numHelpful    reviews.username  \n",
            "0               139.0          Cristina M  \n",
            "1               126.0               Ricky  \n",
            "2                69.0       Tedd Gardiner  \n",
            "3                 2.0              Dougal  \n",
            "4                17.0  Miljan David Tanic  \n"
          ]
        },
        {
          "output_type": "stream",
          "name": "stderr",
          "text": [
            "<ipython-input-8-7d22f3e6e66a>:3: SettingWithCopyWarning: \n",
            "A value is trying to be set on a copy of a slice from a DataFrame\n",
            "\n",
            "See the caveats in the documentation: https://pandas.pydata.org/pandas-docs/stable/user_guide/indexing.html#returning-a-view-versus-a-copy\n",
            "  df['reviews.rating'].fillna(df['reviews.rating'].median(), inplace=True)\n",
            "<ipython-input-8-7d22f3e6e66a>:4: SettingWithCopyWarning: \n",
            "A value is trying to be set on a copy of a slice from a DataFrame\n",
            "\n",
            "See the caveats in the documentation: https://pandas.pydata.org/pandas-docs/stable/user_guide/indexing.html#returning-a-view-versus-a-copy\n",
            "  df['reviews.text'].fillna('', inplace=True)\n"
          ]
        }
      ]
    },
    {
      "cell_type": "code",
      "source": [
        "import nltk\n",
        "import re\n",
        "from nltk.corpus import stopwords\n",
        "nltk.download('stopwords')\n",
        "stop_words = set(stopwords.words('english'))\n",
        "def clean_text(text):\n",
        "    text = re.sub(r'[^a-zA-Z\\s]', '', text)\n",
        "    text = text.lower()\n",
        "    text_tokens = text.split()\n",
        "    cleaned_text = ' '.join([word for word in text_tokens if word not in stop_words])\n",
        "    return cleaned_text\n",
        "df['cleaned_reviews'] = df['reviews.text'].apply(lambda x: clean_text(str(x)))\n",
        "print(df[['reviews.text', 'cleaned_reviews']].head())"
      ],
      "metadata": {
        "colab": {
          "base_uri": "https://localhost:8080/"
        },
        "id": "geId7GN9B7QW",
        "outputId": "4b3eaef4-4e35-4552-863e-c42c434b0622"
      },
      "execution_count": 9,
      "outputs": [
        {
          "output_type": "stream",
          "name": "stdout",
          "text": [
            "                                        reviews.text  \\\n",
            "0  I initially had trouble deciding between the p...   \n",
            "1  Allow me to preface this with a little history...   \n",
            "2  I am enjoying it so far. Great for reading. Ha...   \n",
            "3  I bought one of the first Paperwhites and have...   \n",
            "4  I have to say upfront - I don't like coroporat...   \n",
            "\n",
            "                                     cleaned_reviews  \n",
            "0  initially trouble deciding paperwhite voyage r...  \n",
            "1  allow preface little history casual reader own...  \n",
            "2  enjoying far great reading original fire since...  \n",
            "3  bought one first paperwhites pleased constant ...  \n",
            "4  say upfront dont like coroporate hermetically ...  \n"
          ]
        },
        {
          "output_type": "stream",
          "name": "stderr",
          "text": [
            "[nltk_data] Downloading package stopwords to /root/nltk_data...\n",
            "[nltk_data]   Package stopwords is already up-to-date!\n"
          ]
        }
      ]
    },
    {
      "cell_type": "code",
      "source": [
        "cols_to_drop = ['id', 'asins', 'colors', 'dateAdded', 'dateUpdated', 'dimension',\n",
        "                'ean', 'keys', 'manufacturer', 'manufacturerNumber', 'reviews.userCity',\n",
        "                'reviews.userProvince', 'sizes', 'upc', 'weight', 'reviews.sourceURLs']\n",
        "cols_to_drop = [col for col in cols_to_drop if col in df.columns]\n",
        "df = df.drop(columns=cols_to_drop)\n",
        "print(df.info())"
      ],
      "metadata": {
        "colab": {
          "base_uri": "https://localhost:8080/"
        },
        "id": "yj8r4JAvCJE_",
        "outputId": "cde128bb-e32a-4b6c-cfee-5a31ba586bb1"
      },
      "execution_count": 10,
      "outputs": [
        {
          "output_type": "stream",
          "name": "stdout",
          "text": [
            "<class 'pandas.core.frame.DataFrame'>\n",
            "RangeIndex: 1597 entries, 0 to 1596\n",
            "Data columns (total 5 columns):\n",
            " #   Column              Non-Null Count  Dtype  \n",
            "---  ------              --------------  -----  \n",
            " 0   reviews.text        1597 non-null   object \n",
            " 1   reviews.rating      1597 non-null   float64\n",
            " 2   reviews.numHelpful  900 non-null    float64\n",
            " 3   reviews.username    1580 non-null   object \n",
            " 4   cleaned_reviews     1597 non-null   object \n",
            "dtypes: float64(2), object(3)\n",
            "memory usage: 62.5+ KB\n",
            "None\n"
          ]
        }
      ]
    },
    {
      "cell_type": "code",
      "source": [
        "df['reviews.numHelpful'].fillna(0, inplace=True)\n",
        "df = df.dropna(subset=['reviews.username'])\n",
        "print(df.info())"
      ],
      "metadata": {
        "colab": {
          "base_uri": "https://localhost:8080/"
        },
        "id": "hb08N8-4CWoV",
        "outputId": "043f7636-f86f-44fd-a732-fcecfbad06cf"
      },
      "execution_count": 11,
      "outputs": [
        {
          "output_type": "stream",
          "name": "stdout",
          "text": [
            "<class 'pandas.core.frame.DataFrame'>\n",
            "Index: 1580 entries, 0 to 1596\n",
            "Data columns (total 5 columns):\n",
            " #   Column              Non-Null Count  Dtype  \n",
            "---  ------              --------------  -----  \n",
            " 0   reviews.text        1580 non-null   object \n",
            " 1   reviews.rating      1580 non-null   float64\n",
            " 2   reviews.numHelpful  1580 non-null   float64\n",
            " 3   reviews.username    1580 non-null   object \n",
            " 4   cleaned_reviews     1580 non-null   object \n",
            "dtypes: float64(2), object(3)\n",
            "memory usage: 74.1+ KB\n",
            "None\n"
          ]
        }
      ]
    },
    {
      "cell_type": "code",
      "source": [
        "df['reviews.rating'] = pd.to_numeric(df['reviews.rating'], errors='coerce')\n",
        "df['reviews.numHelpful'] = pd.to_numeric(df['reviews.numHelpful'], errors='coerce')"
      ],
      "metadata": {
        "id": "Mb2tRj8WCvKF"
      },
      "execution_count": 12,
      "outputs": []
    },
    {
      "cell_type": "code",
      "source": [
        "from sklearn.feature_extraction.text import TfidfVectorizer\n",
        "tfidf_vectorizer = TfidfVectorizer(max_features=5000, min_df=5, max_df=0.8, stop_words='english')\n",
        "tfidf_matrix = tfidf_vectorizer.fit_transform(df['cleaned_reviews'])\n",
        "print(tfidf_matrix.shape)"
      ],
      "metadata": {
        "colab": {
          "base_uri": "https://localhost:8080/"
        },
        "id": "7nLu0csOCzzc",
        "outputId": "fb6cdb60-7f40-4019-972a-0f11c7d53c57"
      },
      "execution_count": 13,
      "outputs": [
        {
          "output_type": "stream",
          "name": "stdout",
          "text": [
            "(1580, 2282)\n"
          ]
        }
      ]
    },
    {
      "cell_type": "code",
      "source": [
        "user_product_matrix = df.pivot_table(index='reviews.username', columns='reviews.text', values='reviews.rating', aggfunc='mean').fillna(0)\n",
        "print(user_product_matrix.head())"
      ],
      "metadata": {
        "colab": {
          "base_uri": "https://localhost:8080/"
        },
        "id": "CjZOX9bvDExA",
        "outputId": "dbdceda7-8ff6-4952-b417-8d2dd812ad62"
      },
      "execution_count": 14,
      "outputs": [
        {
          "output_type": "stream",
          "name": "stdout",
          "text": [
            "reviews.text      (The volume does not work with the iPhones. Please, if you have an iPhone, do your research before buying them, e.g. first line of product description. These work WELL for androids)I wanted to give these headphones a try, so I preordered them at the end of June. They finally came today and I got to try them out.FEEL: They feel like the Apple EarPods headphones when its in your ear. For me, it's very comfortable. I haven't had a chance to keep them in all day, but I've had them in for 30 minutes to an hour at a time.AUDIO: I'm not a complete audiophile, but I do like the occasional nice set of headphones. If you're thinking these are a nice set of headphones, then don't even think about ordering.I guess I would say they're pretty similar in sound to the EarPods, but I would definitely give these a step up from the apple headphones. Hands down.One thing I did love about the EarPods, was that I could still hear everything around me while I had both headphones in. These are the same way. Some may not like it, but I think it's perfect for use around the house, at work, or even for working out. I like for the fact I can still hear things going around me. If the ambient noise is too loud, just turn up the volume.I do want to say, that so far, they seem to have good lows and mids. It's pretty crisp in sound. The bass isn't too bad either. It's not like a Skullcandy set of headphones, but the bass IS there (honestly better than I would have expected for these headphones)LOOKS: I love the black look. Tangle free cord is very nice to have, and I also found it interesting how the section above the controls are the regular thin cables to make it lighter when dangling.Read more  \\\n",
            "reviews.username                                                                                                                                                                                                                                                                                                                                                                                                                                                                                                                                                                                                                                                                                                                                                                                                                                                                                                                                                                                                                                                                                                                                                                                                                                                                                                                                                                                                                                                                                                                                                                                                                                                                                                                                                                 \n",
            "1-Apr                                                           0.0                                                                                                                                                                                                                                                                                                                                                                                                                                                                                                                                                                                                                                                                                                                                                                                                                                                                                                                                                                                                                                                                                                                                                                                                                                                                                                                                                                                                                                                                                                                                                                                                                                                                                                              \n",
            "1215                                                            0.0                                                                                                                                                                                                                                                                                                                                                                                                                                                                                                                                                                                                                                                                                                                                                                                                                                                                                                                                                                                                                                                                                                                                                                                                                                                                                                                                                                                                                                                                                                                                                                                                                                                                                                              \n",
            "1234                                                            0.0                                                                                                                                                                                                                                                                                                                                                                                                                                                                                                                                                                                                                                                                                                                                                                                                                                                                                                                                                                                                                                                                                                                                                                                                                                                                                                                                                                                                                                                                                                                                                                                                                                                                                                              \n",
            "1soni                                                           0.0                                                                                                                                                                                                                                                                                                                                                                                                                                                                                                                                                                                                                                                                                                                                                                                                                                                                                                                                                                                                                                                                                                                                                                                                                                                                                                                                                                                                                                                                                                                                                                                                                                                                                                              \n",
            "25Firefighter                                                   0.0                                                                                                                                                                                                                                                                                                                                                                                                                                                                                                                                                                                                                                                                                                                                                                                                                                                                                                                                                                                                                                                                                                                                                                                                                                                                                                                                                                                                                                                                                                                                                                                                                                                                                                              \n",
            "\n",
            "reviews.text      (The volume does not work with the iPhones. Please, if you have an iPhone, do your research before buying them, e.g. first line of product description. These work WELL for androids)br /br /I wanted to give these headphones a try, so I preordered them at the end of June. They finally came today and I got to try them out.br /br /FEEL: They feel like the Apple EarPods headphones when its in your ear. For me, it's very comfortable. I haven't had a chance to keep them in all day, but I've had them in for 30 minutes to an hour at a time.br /br /AUDIO: I'm not a complete audiophile, but I do like the occasional nice set of headphones. If you're thinking these are a nice set of headphones, then don't even think about ordering.br /I guess I would say they're pretty similar in sound to the EarPods, but I would definitely give these a step up from the apple headphones. Hands down.br /One thing I did love about the EarPods, was that I could still hear everything around me while I had both headphones in. These are the same way. Some may not like it, but I think it's perfect for use around the house, at work, or even for working out. I like for the fact I can still hear things going around me. If the ambient noise is too loud, just turn up the volume.br /I do want to say, that so far, they seem to have good lows and mids. It's pretty crisp in sound. The bass isn't too bad either. It's not like a Skullcandy set of headphones, but the bass IS there (honestly better than I would have expected for these headphones)br /br /LOOKS: I love the black look. Tangle free cord is very nice to have, and I also found it interesting how the section above the controls are the regular thin cables to make it lighter when dangling.Read more  \\\n",
            "reviews.username                                                                                                                                                                                                                                                                                                                                                                                                                                                                                                                                                                                                                                                                                                                                                                                                                                                                                                                                                                                                                                                                                                                                                                                                                                                                                                                                                                                                                                                                                                                                                                                                                                                                                                                                                                                                             \n",
            "1-Apr                                                           0.0                                                                                                                                                                                                                                                                                                                                                                                                                                                                                                                                                                                                                                                                                                                                                                                                                                                                                                                                                                                                                                                                                                                                                                                                                                                                                                                                                                                                                                                                                                                                                                                                                                                                                                                                                          \n",
            "1215                                                            0.0                                                                                                                                                                                                                                                                                                                                                                                                                                                                                                                                                                                                                                                                                                                                                                                                                                                                                                                                                                                                                                                                                                                                                                                                                                                                                                                                                                                                                                                                                                                                                                                                                                                                                                                                                          \n",
            "1234                                                            0.0                                                                                                                                                                                                                                                                                                                                                                                                                                                                                                                                                                                                                                                                                                                                                                                                                                                                                                                                                                                                                                                                                                                                                                                                                                                                                                                                                                                                                                                                                                                                                                                                                                                                                                                                                          \n",
            "1soni                                                           0.0                                                                                                                                                                                                                                                                                                                                                                                                                                                                                                                                                                                                                                                                                                                                                                                                                                                                                                                                                                                                                                                                                                                                                                                                                                                                                                                                                                                                                                                                                                                                                                                                                                                                                                                                                          \n",
            "25Firefighter                                                   0.0                                                                                                                                                                                                                                                                                                                                                                                                                                                                                                                                                                                                                                                                                                                                                                                                                                                                                                                                                                                                                                                                                                                                                                                                                                                                                                                                                                                                                                                                                                                                                                                                                                                                                                                                                          \n",
            "\n",
            "reviews.text      *Edit 12/23/15*It appears that the linked SD card below and the one made for Fire tablets are the same price now, although the Fire one still does not come with an adapter. Should have been that way from day one.*end editLet's get the cost/benefit of buying this versus the 50 model out of the way. For 100, you get:7 Kindle Fire without sponsored lockscreens 65Kid-proof case 202-year accident protection 161-year of Free Time Unlimited 36 minimumThat's a nice value! I've seen a few reviews where people are upset that it doesn't work without Wi-Fi, but I'm not sure what their expectations are. If you have previously download an app/game/video and it doesn't require internet access (some do, some don't), it works fine. As for performance, it's OK. Not great. It freezes every now and then and needs to be rebooted more often than I'd like to get it working again. This is frustrating to a 3-year-old, as you can imagine. Hard to complain too much given the price, but I was expecting it to be more stable.You will want to buy a micro SD card because the Fire OS takes up 5 of the 8 GB of on-board storage. This is where Amazon is doing something that is, shall we say, a little sketchy. When you customize your purchase, it allows you to select the SanDisk 32 GB SD Memory Card for All-New Fire Tablets for 19.99 (or more or less depending on the storage size), but gives you no other options. This SD card is by the looks of it the exact same as this one ...Read more  \\\n",
            "reviews.username                                                                                                                                                                                                                                                                                                                                                                                                                                                                                                                                                                                                                                                                                                                                                                                                                                                                                                                                                                                                                                                                                                                                                                                                                                                                                                                                                                                                                                                                                                                                       \n",
            "1-Apr                                                           0.0                                                                                                                                                                                                                                                                                                                                                                                                                                                                                                                                                                                                                                                                                                                                                                                                                                                                                                                                                                                                                                                                                                                                                                                                                                                                                                                                                                                                                                                                                    \n",
            "1215                                                            0.0                                                                                                                                                                                                                                                                                                                                                                                                                                                                                                                                                                                                                                                                                                                                                                                                                                                                                                                                                                                                                                                                                                                                                                                                                                                                                                                                                                                                                                                                                    \n",
            "1234                                                            0.0                                                                                                                                                                                                                                                                                                                                                                                                                                                                                                                                                                                                                                                                                                                                                                                                                                                                                                                                                                                                                                                                                                                                                                                                                                                                                                                                                                                                                                                                                    \n",
            "1soni                                                           0.0                                                                                                                                                                                                                                                                                                                                                                                                                                                                                                                                                                                                                                                                                                                                                                                                                                                                                                                                                                                                                                                                                                                                                                                                                                                                                                                                                                                                                                                                                    \n",
            "25Firefighter                                                   0.0                                                                                                                                                                                                                                                                                                                                                                                                                                                                                                                                                                                                                                                                                                                                                                                                                                                                                                                                                                                                                                                                                                                                                                                                                                                                                                                                                                                                                                                                                    \n",
            "\n",
            "reviews.text      -- function fpresizePlayerSpace(nsPrefix,w,h) try var ifrm parent.document.getElementById(nsPrefix + movieFrameID) if (ifrm) var h2 h + 35 ifrm.style.height h2 catch(err) if (h 0) document.getElementById(nsPrefix + clipDiv).style.heighth+px document.getEl  \\\n",
            "reviews.username                                                                                                                                                                                                                                                                    \n",
            "1-Apr                                                           0.0                                                                                                                                                                                                                 \n",
            "1215                                                            0.0                                                                                                                                                                                                                 \n",
            "1234                                                            0.0                                                                                                                                                                                                                 \n",
            "1soni                                                           0.0                                                                                                                                                                                                                 \n",
            "25Firefighter                                                   0.0                                                                                                                                                                                                                 \n",
            "\n",
            "reviews.text      ..exactly what I wanted, but the battery drains FAST when on hands free mode.  \\\n",
            "reviews.username                                                                                  \n",
            "1-Apr                                                           0.0                               \n",
            "1215                                                            0.0                               \n",
            "1234                                                            0.0                               \n",
            "1soni                                                           0.0                               \n",
            "25Firefighter                                                   0.0                               \n",
            "\n",
            "reviews.text      1. While a great idea to make the cover self-standing, it's annoying that it's floppy when not in use.2. I bought the cover because my first Kindle didn't have a cover and often got left on, wearing down the battery. My second Kindle cover had the convenient feature of automatically opening and closing the device. So I wanted that feature on my third Kindle. Even though I think it's over priced, I like the convenience.3. My other cover was black, which often got lost on dark surfaces. This time I got the denim blue, so it's much easier to find from a distance.  \\\n",
            "reviews.username                                                                                                                                                                                                                                                                                                                                                                                                                                                                                                                                                                                           \n",
            "1-Apr                                                           0.0                                                                                                                                                                                                                                                                                                                                                                                                                                                                                                                                        \n",
            "1215                                                            0.0                                                                                                                                                                                                                                                                                                                                                                                                                                                                                                                                        \n",
            "1234                                                            0.0                                                                                                                                                                                                                                                                                                                                                                                                                                                                                                                                        \n",
            "1soni                                                           0.0                                                                                                                                                                                                                                                                                                                                                                                                                                                                                                                                        \n",
            "25Firefighter                                                   0.0                                                                                                                                                                                                                                                                                                                                                                                                                                                                                                                                        \n",
            "\n",
            "reviews.text      25 for a case for a product that costs 50. Typical scam from Amazon just a warning, in the process of returning both items seeing as the Fire 7 is a broken device. To transfer any data to it, you must restart replug the device for each file... even a 5 thumb drive can do more without an interface.  \\\n",
            "reviews.username                                                                                                                                                                                                                                                                                                               \n",
            "1-Apr                                                           0.0                                                                                                                                                                                                                                                            \n",
            "1215                                                            0.0                                                                                                                                                                                                                                                            \n",
            "1234                                                            0.0                                                                                                                                                                                                                                                            \n",
            "1soni                                                           0.0                                                                                                                                                                                                                                                            \n",
            "25Firefighter                                                   0.0                                                                                                                                                                                                                                                            \n",
            "\n",
            "reviews.text      50 Despite the dirt cheap price, i find it to be great for casual use. Videos play nice, games even play nice, text is just not as sexy looking as higher resolution screens. Watch the video for full demo!The short/summed up version: it's the new budget king in the 6-8 size. It's screen is a little lower in resolution but still pleasant to look at, it has enough power for most of the typical tablet tasks, and it shares many of the same features as its higher priced brothers such as front and back cameras, b/g/n wifi, and good overall battery life (minus an hour) My favorite size tablet is 8, so if you're looking at the amazon fire lineup, i would take this over the 6 for sure, and would have a hard time picking the 8 fire at 3x the price. If you're not a prime member, it's still a good tablet, if you are a prime member: it's a great tablet. Possible quality control issue: Mine had two dead pixels (not very noticeable, but still will exchange) You can load APKs(enable unknown sources), i loaded antutu and panasonic image app, both work properly.Just some background, i currently own 5 tablets not including this new one, ranging from a nook color, a samsung tab pro 8.4, LG g pad x8.3, an old acer a500 and an off brand 10.1. Suffice it to say: i know my tablets!Main Cons:-2 dead pixels-Front and rear cameras are low resolution, mostly good for video calls only-1 speaker, sounds tinny like a small laptop, Gets decently loud, use headphones!-Text not very crisp (but still decent to read)The rest are overall Positives:-7-8 is my favorite tablet size, 6 is just a bit too tiny, and 9+ can be cumbersome-Uses a slightly slower quad core 1.Read more  \\\n",
            "reviews.username                                                                                                                                                                                                                                                                                                                                                                                                                                                                                                                                                                                                                                                                                                                                                                                                                                                                                                                                                                                                                                                                                                                                                                                                                                                                                                                                                                                                                                                                                                                                                                                                                                                                                                                                     \n",
            "1-Apr                                                           0.0                                                                                                                                                                                                                                                                                                                                                                                                                                                                                                                                                                                                                                                                                                                                                                                                                                                                                                                                                                                                                                                                                                                                                                                                                                                                                                                                                                                                                                                                                                                                                                                                                                                                                  \n",
            "1215                                                            0.0                                                                                                                                                                                                                                                                                                                                                                                                                                                                                                                                                                                                                                                                                                                                                                                                                                                                                                                                                                                                                                                                                                                                                                                                                                                                                                                                                                                                                                                                                                                                                                                                                                                                                  \n",
            "1234                                                            0.0                                                                                                                                                                                                                                                                                                                                                                                                                                                                                                                                                                                                                                                                                                                                                                                                                                                                                                                                                                                                                                                                                                                                                                                                                                                                                                                                                                                                                                                                                                                                                                                                                                                                                  \n",
            "1soni                                                           0.0                                                                                                                                                                                                                                                                                                                                                                                                                                                                                                                                                                                                                                                                                                                                                                                                                                                                                                                                                                                                                                                                                                                                                                                                                                                                                                                                                                                                                                                                                                                                                                                                                                                                                  \n",
            "25Firefighter                                                   0.0                                                                                                                                                                                                                                                                                                                                                                                                                                                                                                                                                                                                                                                                                                                                                                                                                                                                                                                                                                                                                                                                                                                                                                                                                                                                                                                                                                                                                                                                                                                                                                                                                                                                                  \n",
            "\n",
            "reviews.text      A friend gave me a Dot, which I enjoyed. I decided to explore the other devices. I was torn between the Echo and the Tap. After reading a CNET review, I chose the Tap because it is portable. My two frustrations are you cannot change the wake up word \"Alexis\", and you have to be exact in your language when requesting a service. If you are Amazon prime or Audible book member, it is a great addition to you household.  \\\n",
            "reviews.username                                                                                                                                                                                                                                                                                                                                                                                                                                      \n",
            "1-Apr                                                           0.0                                                                                                                                                                                                                                                                                                                                                                                   \n",
            "1215                                                            0.0                                                                                                                                                                                                                                                                                                                                                                                   \n",
            "1234                                                            0.0                                                                                                                                                                                                                                                                                                                                                                                   \n",
            "1soni                                                           0.0                                                                                                                                                                                                                                                                                                                                                                                   \n",
            "25Firefighter                                                   0.0                                                                                                                                                                                                                                                                                                                                                                                   \n",
            "\n",
            "reviews.text      A gift for my granddaughter.  ...  \\\n",
            "reviews.username                                ...   \n",
            "1-Apr                                      0.0  ...   \n",
            "1215                                       0.0  ...   \n",
            "1234                                       0.0  ...   \n",
            "1soni                                      0.0  ...   \n",
            "25Firefighter                              0.0  ...   \n",
            "\n",
            "reviews.text      the voice recognition makes finding content so easy, even worked with hulu+I already had a mogo pro so I tried out the games and for a android console they are first ratefar better then oyua which i'm sorry to say i'll never use again.the tv and music content and menu's are very quick thanks to the very powerful hardware under the hoodoverall I'm positive that this unit will kill roku and apple tveven google chromecast better be careful (I own all these units so I speak from experience)  \\\n",
            "reviews.username                                                                                                                                                                                                                                                                                                                                                                                                                                                                                                                \n",
            "1-Apr                                                           0.0                                                                                                                                                                                                                                                                                                                                                                                                                                                             \n",
            "1215                                                            0.0                                                                                                                                                                                                                                                                                                                                                                                                                                                             \n",
            "1234                                                            0.0                                                                                                                                                                                                                                                                                                                                                                                                                                                             \n",
            "1soni                                                           0.0                                                                                                                                                                                                                                                                                                                                                                                                                                                             \n",
            "25Firefighter                                                   0.0                                                                                                                                                                                                                                                                                                                                                                                                                                                             \n",
            "\n",
            "reviews.text      this is a very good product, the speakers are good, the price was right. I liked everything about it, other than the fact that you had to press the button each time you wanted to talk to it, unlike the echo and the dot. The portability was good, but I didn't have much use for it being portable. Unless you are going to keep the Tap within arm's reach, you're better off with one of the other hands free voice activated products. recommended with caveats  \\\n",
            "reviews.username                                                                                                                                                                                                                                                                                                                                                                                                                                                                           \n",
            "1-Apr                                                           0.0                                                                                                                                                                                                                                                                                                                                                                                                                        \n",
            "1215                                                            0.0                                                                                                                                                                                                                                                                                                                                                                                                                        \n",
            "1234                                                            0.0                                                                                                                                                                                                                                                                                                                                                                                                                        \n",
            "1soni                                                           0.0                                                                                                                                                                                                                                                                                                                                                                                                                        \n",
            "25Firefighter                                                   0.0                                                                                                                                                                                                                                                                                                                                                                                                                        \n",
            "\n",
            "reviews.text      this thing is amazing. I wish there was someplace you could go to see ALL the titles available on prime. everything I've seen shows a few here and a few there but this device is terrific highly recommended  \\\n",
            "reviews.username                                                                                                                                                                                                                  \n",
            "1-Apr                                                           0.0                                                                                                                                                               \n",
            "1215                                                            0.0                                                                                                                                                               \n",
            "1234                                                            0.0                                                                                                                                                               \n",
            "1soni                                                           0.0                                                                                                                                                               \n",
            "25Firefighter                                                   0.0                                                                                                                                                               \n",
            "\n",
            "reviews.text      very interesting device, but having to touch button is a pain sometimes.if that would bother you, then go with Echo.  \\\n",
            "reviews.username                                                                                                                         \n",
            "1-Apr                                                           0.0                                                                      \n",
            "1215                                                            0.0                                                                      \n",
            "1234                                                            0.0                                                                      \n",
            "1soni                                                           0.0                                                                      \n",
            "25Firefighter                                                   0.0                                                                      \n",
            "\n",
            "reviews.text      very overpriced!  \\\n",
            "reviews.username                     \n",
            "1-Apr                          0.0   \n",
            "1215                           0.0   \n",
            "1234                           0.0   \n",
            "1soni                          0.0   \n",
            "25Firefighter                  0.0   \n",
            "\n",
            "reviews.text      we're early in the stages of home smartness but this is a good start  \\\n",
            "reviews.username                                                                         \n",
            "1-Apr                                                           0.0                      \n",
            "1215                                                            0.0                      \n",
            "1234                                                            0.0                      \n",
            "1soni                                                           0.0                      \n",
            "25Firefighter                                                   0.0                      \n",
            "\n",
            "reviews.text      works as expected. great Christmas present for the kids.  \\\n",
            "reviews.username                                                             \n",
            "1-Apr                                                           0.0          \n",
            "1215                                                            0.0          \n",
            "1234                                                            0.0          \n",
            "1soni                                                           0.0          \n",
            "25Firefighter                                                   0.0          \n",
            "\n",
            "reviews.text      works well with the amazon fire 7  \\\n",
            "reviews.username                                      \n",
            "1-Apr                                           0.0   \n",
            "1215                                            0.0   \n",
            "1234                                            0.0   \n",
            "1soni                                           0.0   \n",
            "25Firefighter                                   0.0   \n",
            "\n",
            "reviews.text      would get another, works great, having fun with all the options  \\\n",
            "reviews.username                                                                    \n",
            "1-Apr                                                           0.0                 \n",
            "1215                                                            0.0                 \n",
            "1234                                                            0.0                 \n",
            "1soni                                                           0.0                 \n",
            "25Firefighter                                                   0.0                 \n",
            "\n",
            "reviews.text      you can ask alexa almost anything kids love it Plays all my music  \n",
            "reviews.username                                                                     \n",
            "1-Apr                                                           0.0                  \n",
            "1215                                                            0.0                  \n",
            "1234                                                            0.0                  \n",
            "1soni                                                           0.0                  \n",
            "25Firefighter                                                   0.0                  \n",
            "\n",
            "[5 rows x 1031 columns]\n"
          ]
        }
      ]
    },
    {
      "cell_type": "code",
      "source": [
        "from sklearn.metrics.pairwise import cosine_similarity\n",
        "import numpy as np\n",
        "cosine_sim = cosine_similarity(tfidf_matrix, tfidf_matrix)\n",
        "def get_recommendations(idx, cosine_sim=cosine_sim):\n",
        "    sim_scores = list(enumerate(cosine_sim[idx]))\n",
        "    sim_scores = sorted(sim_scores, key=lambda x: x[1], reverse=True)\n",
        "    sim_scores = sim_scores[1:6]\n",
        "    review_indices = [i[0] for i in sim_scores]\n",
        "    return df['reviews.text'].iloc[review_indices]\n",
        "print(get_recommendations(0))"
      ],
      "metadata": {
        "colab": {
          "base_uri": "https://localhost:8080/"
        },
        "id": "pUDQlqx1DJmb",
        "outputId": "fba3fbfa-a02a-415c-b22d-52ca5942b5b9"
      },
      "execution_count": 15,
      "outputs": [
        {
          "output_type": "stream",
          "name": "stdout",
          "text": [
            "8      I initially had trouble deciding between the p...\n",
            "263    I'm a long time Kindle user, and have upgraded...\n",
            "737    This is the fifth e-ink Kindle reader that I'v...\n",
            "740    This is the fifth e-ink Kindle reader that I'v...\n",
            "743    This is the fifth e-ink Kindle reader that I'v...\n",
            "Name: reviews.text, dtype: object\n"
          ]
        }
      ]
    },
    {
      "cell_type": "code",
      "source": [
        "def get_product_recommendations(idx, cosine_sim=cosine_sim, num_recommendations=5):\n",
        "    sim_scores = list(enumerate(cosine_sim[idx]))\n",
        "    sim_scores = sorted(sim_scores, key=lambda x: x[1], reverse=True)\n",
        "    sim_scores = sim_scores[1:num_recommendations+1]\n",
        "    review_indices = [i[0] for i in sim_scores]\n",
        "    return df[['reviews.text', 'reviews.rating', 'reviews.username']].iloc[review_indices]\n",
        "print(get_product_recommendations(0))"
      ],
      "metadata": {
        "colab": {
          "base_uri": "https://localhost:8080/"
        },
        "id": "awcavtI2DXvv",
        "outputId": "6b8be506-9ccc-4824-93b4-b004b95f9a83"
      },
      "execution_count": 16,
      "outputs": [
        {
          "output_type": "stream",
          "name": "stdout",
          "text": [
            "                                          reviews.text  reviews.rating  \\\n",
            "8    I initially had trouble deciding between the p...             5.0   \n",
            "263  I'm a long time Kindle user, and have upgraded...             5.0   \n",
            "737  This is the fifth e-ink Kindle reader that I'v...             5.0   \n",
            "740  This is the fifth e-ink Kindle reader that I'v...             5.0   \n",
            "743  This is the fifth e-ink Kindle reader that I'v...             5.0   \n",
            "\n",
            "    reviews.username  \n",
            "8         Cristina M  \n",
            "263     Kenneth Jung  \n",
            "737      J. Chambers  \n",
            "740      J. Chambers  \n",
            "743      J. Chambers  \n"
          ]
        }
      ]
    },
    {
      "cell_type": "code",
      "source": [
        "def get_unique_product_recommendations(idx, cosine_sim=cosine_sim, num_recommendations=5):\n",
        "    sim_scores = list(enumerate(cosine_sim[idx]))\n",
        "    sim_scores = sorted(sim_scores, key=lambda x: x[1], reverse=True)\n",
        "    sim_scores = sim_scores[1:]\n",
        "    review_indices = []\n",
        "    seen_users = set()\n",
        "\n",
        "    for i, _ in sim_scores:\n",
        "        user = df.iloc[i]['reviews.username']\n",
        "        if user not in seen_users:\n",
        "            review_indices.append(i)\n",
        "            seen_users.add(user)\n",
        "        if len(review_indices) >= num_recommendations:\n",
        "            break\n",
        "    return df[['reviews.text', 'reviews.rating', 'reviews.username', 'reviews.numHelpful']].iloc[review_indices]\n",
        "print(get_unique_product_recommendations(0))"
      ],
      "metadata": {
        "colab": {
          "base_uri": "https://localhost:8080/"
        },
        "id": "KLl6-Ic_DjVW",
        "outputId": "0bddea5c-b86b-4912-c885-3626cfa5bf16"
      },
      "execution_count": 17,
      "outputs": [
        {
          "output_type": "stream",
          "name": "stdout",
          "text": [
            "                                          reviews.text  reviews.rating  \\\n",
            "8    I initially had trouble deciding between the p...             5.0   \n",
            "263  I'm a long time Kindle user, and have upgraded...             5.0   \n",
            "737  This is the fifth e-ink Kindle reader that I'v...             5.0   \n",
            "273  I don't know why there are so many bad reviews...             5.0   \n",
            "781  I had a kindle keyboard. I still have. I'm not...             5.0   \n",
            "\n",
            "    reviews.username  reviews.numHelpful  \n",
            "8         Cristina M                 0.0  \n",
            "263     Kenneth Jung                88.0  \n",
            "737      J. Chambers               505.0  \n",
            "273      MissOliviaP               834.0  \n",
            "781            J-Ro!               426.0  \n"
          ]
        }
      ]
    },
    {
      "cell_type": "code",
      "source": [
        "pip install streamlit"
      ],
      "metadata": {
        "colab": {
          "base_uri": "https://localhost:8080/"
        },
        "id": "gfvb4WENDv5C",
        "outputId": "ee9a0133-2a03-4b64-912b-a50cd0e501d4"
      },
      "execution_count": 18,
      "outputs": [
        {
          "output_type": "stream",
          "name": "stdout",
          "text": [
            "Collecting streamlit\n",
            "  Downloading streamlit-1.38.0-py2.py3-none-any.whl.metadata (8.5 kB)\n",
            "Requirement already satisfied: altair<6,>=4.0 in /usr/local/lib/python3.10/dist-packages (from streamlit) (4.2.2)\n",
            "Requirement already satisfied: blinker<2,>=1.0.0 in /usr/lib/python3/dist-packages (from streamlit) (1.4)\n",
            "Requirement already satisfied: cachetools<6,>=4.0 in /usr/local/lib/python3.10/dist-packages (from streamlit) (5.5.0)\n",
            "Requirement already satisfied: click<9,>=7.0 in /usr/local/lib/python3.10/dist-packages (from streamlit) (8.1.7)\n",
            "Requirement already satisfied: numpy<3,>=1.20 in /usr/local/lib/python3.10/dist-packages (from streamlit) (1.26.4)\n",
            "Requirement already satisfied: packaging<25,>=20 in /usr/local/lib/python3.10/dist-packages (from streamlit) (24.1)\n",
            "Requirement already satisfied: pandas<3,>=1.3.0 in /usr/local/lib/python3.10/dist-packages (from streamlit) (2.1.4)\n",
            "Requirement already satisfied: pillow<11,>=7.1.0 in /usr/local/lib/python3.10/dist-packages (from streamlit) (9.4.0)\n",
            "Requirement already satisfied: protobuf<6,>=3.20 in /usr/local/lib/python3.10/dist-packages (from streamlit) (3.20.3)\n",
            "Requirement already satisfied: pyarrow>=7.0 in /usr/local/lib/python3.10/dist-packages (from streamlit) (14.0.2)\n",
            "Requirement already satisfied: requests<3,>=2.27 in /usr/local/lib/python3.10/dist-packages (from streamlit) (2.32.3)\n",
            "Requirement already satisfied: rich<14,>=10.14.0 in /usr/local/lib/python3.10/dist-packages (from streamlit) (13.8.0)\n",
            "Collecting tenacity<9,>=8.1.0 (from streamlit)\n",
            "  Downloading tenacity-8.5.0-py3-none-any.whl.metadata (1.2 kB)\n",
            "Requirement already satisfied: toml<2,>=0.10.1 in /usr/local/lib/python3.10/dist-packages (from streamlit) (0.10.2)\n",
            "Requirement already satisfied: typing-extensions<5,>=4.3.0 in /usr/local/lib/python3.10/dist-packages (from streamlit) (4.12.2)\n",
            "Collecting gitpython!=3.1.19,<4,>=3.0.7 (from streamlit)\n",
            "  Downloading GitPython-3.1.43-py3-none-any.whl.metadata (13 kB)\n",
            "Collecting pydeck<1,>=0.8.0b4 (from streamlit)\n",
            "  Downloading pydeck-0.9.1-py2.py3-none-any.whl.metadata (4.1 kB)\n",
            "Requirement already satisfied: tornado<7,>=6.0.3 in /usr/local/lib/python3.10/dist-packages (from streamlit) (6.3.3)\n",
            "Collecting watchdog<5,>=2.1.5 (from streamlit)\n",
            "  Downloading watchdog-4.0.2-py3-none-manylinux2014_x86_64.whl.metadata (38 kB)\n",
            "Requirement already satisfied: entrypoints in /usr/local/lib/python3.10/dist-packages (from altair<6,>=4.0->streamlit) (0.4)\n",
            "Requirement already satisfied: jinja2 in /usr/local/lib/python3.10/dist-packages (from altair<6,>=4.0->streamlit) (3.1.4)\n",
            "Requirement already satisfied: jsonschema>=3.0 in /usr/local/lib/python3.10/dist-packages (from altair<6,>=4.0->streamlit) (4.23.0)\n",
            "Requirement already satisfied: toolz in /usr/local/lib/python3.10/dist-packages (from altair<6,>=4.0->streamlit) (0.12.1)\n",
            "Collecting gitdb<5,>=4.0.1 (from gitpython!=3.1.19,<4,>=3.0.7->streamlit)\n",
            "  Downloading gitdb-4.0.11-py3-none-any.whl.metadata (1.2 kB)\n",
            "Requirement already satisfied: python-dateutil>=2.8.2 in /usr/local/lib/python3.10/dist-packages (from pandas<3,>=1.3.0->streamlit) (2.8.2)\n",
            "Requirement already satisfied: pytz>=2020.1 in /usr/local/lib/python3.10/dist-packages (from pandas<3,>=1.3.0->streamlit) (2024.1)\n",
            "Requirement already satisfied: tzdata>=2022.1 in /usr/local/lib/python3.10/dist-packages (from pandas<3,>=1.3.0->streamlit) (2024.1)\n",
            "Requirement already satisfied: charset-normalizer<4,>=2 in /usr/local/lib/python3.10/dist-packages (from requests<3,>=2.27->streamlit) (3.3.2)\n",
            "Requirement already satisfied: idna<4,>=2.5 in /usr/local/lib/python3.10/dist-packages (from requests<3,>=2.27->streamlit) (3.8)\n",
            "Requirement already satisfied: urllib3<3,>=1.21.1 in /usr/local/lib/python3.10/dist-packages (from requests<3,>=2.27->streamlit) (2.0.7)\n",
            "Requirement already satisfied: certifi>=2017.4.17 in /usr/local/lib/python3.10/dist-packages (from requests<3,>=2.27->streamlit) (2024.7.4)\n",
            "Requirement already satisfied: markdown-it-py>=2.2.0 in /usr/local/lib/python3.10/dist-packages (from rich<14,>=10.14.0->streamlit) (3.0.0)\n",
            "Requirement already satisfied: pygments<3.0.0,>=2.13.0 in /usr/local/lib/python3.10/dist-packages (from rich<14,>=10.14.0->streamlit) (2.16.1)\n",
            "Collecting smmap<6,>=3.0.1 (from gitdb<5,>=4.0.1->gitpython!=3.1.19,<4,>=3.0.7->streamlit)\n",
            "  Downloading smmap-5.0.1-py3-none-any.whl.metadata (4.3 kB)\n",
            "Requirement already satisfied: MarkupSafe>=2.0 in /usr/local/lib/python3.10/dist-packages (from jinja2->altair<6,>=4.0->streamlit) (2.1.5)\n",
            "Requirement already satisfied: attrs>=22.2.0 in /usr/local/lib/python3.10/dist-packages (from jsonschema>=3.0->altair<6,>=4.0->streamlit) (24.2.0)\n",
            "Requirement already satisfied: jsonschema-specifications>=2023.03.6 in /usr/local/lib/python3.10/dist-packages (from jsonschema>=3.0->altair<6,>=4.0->streamlit) (2023.12.1)\n",
            "Requirement already satisfied: referencing>=0.28.4 in /usr/local/lib/python3.10/dist-packages (from jsonschema>=3.0->altair<6,>=4.0->streamlit) (0.35.1)\n",
            "Requirement already satisfied: rpds-py>=0.7.1 in /usr/local/lib/python3.10/dist-packages (from jsonschema>=3.0->altair<6,>=4.0->streamlit) (0.20.0)\n",
            "Requirement already satisfied: mdurl~=0.1 in /usr/local/lib/python3.10/dist-packages (from markdown-it-py>=2.2.0->rich<14,>=10.14.0->streamlit) (0.1.2)\n",
            "Requirement already satisfied: six>=1.5 in /usr/local/lib/python3.10/dist-packages (from python-dateutil>=2.8.2->pandas<3,>=1.3.0->streamlit) (1.16.0)\n",
            "Downloading streamlit-1.38.0-py2.py3-none-any.whl (8.7 MB)\n",
            "\u001b[2K   \u001b[90m━━━━━━━━━━━━━━━━━━━━━━━━━━━━━━━━━━━━━━━━\u001b[0m \u001b[32m8.7/8.7 MB\u001b[0m \u001b[31m73.5 MB/s\u001b[0m eta \u001b[36m0:00:00\u001b[0m\n",
            "\u001b[?25hDownloading GitPython-3.1.43-py3-none-any.whl (207 kB)\n",
            "\u001b[2K   \u001b[90m━━━━━━━━━━━━━━━━━━━━━━━━━━━━━━━━━━━━━━━━\u001b[0m \u001b[32m207.3/207.3 kB\u001b[0m \u001b[31m15.3 MB/s\u001b[0m eta \u001b[36m0:00:00\u001b[0m\n",
            "\u001b[?25hDownloading pydeck-0.9.1-py2.py3-none-any.whl (6.9 MB)\n",
            "\u001b[2K   \u001b[90m━━━━━━━━━━━━━━━━━━━━━━━━━━━━━━━━━━━━━━━━\u001b[0m \u001b[32m6.9/6.9 MB\u001b[0m \u001b[31m83.7 MB/s\u001b[0m eta \u001b[36m0:00:00\u001b[0m\n",
            "\u001b[?25hDownloading tenacity-8.5.0-py3-none-any.whl (28 kB)\n",
            "Downloading watchdog-4.0.2-py3-none-manylinux2014_x86_64.whl (82 kB)\n",
            "\u001b[2K   \u001b[90m━━━━━━━━━━━━━━━━━━━━━━━━━━━━━━━━━━━━━━━━\u001b[0m \u001b[32m82.9/82.9 kB\u001b[0m \u001b[31m7.0 MB/s\u001b[0m eta \u001b[36m0:00:00\u001b[0m\n",
            "\u001b[?25hDownloading gitdb-4.0.11-py3-none-any.whl (62 kB)\n",
            "\u001b[2K   \u001b[90m━━━━━━━━━━━━━━━━━━━━━━━━━━━━━━━━━━━━━━━━\u001b[0m \u001b[32m62.7/62.7 kB\u001b[0m \u001b[31m5.3 MB/s\u001b[0m eta \u001b[36m0:00:00\u001b[0m\n",
            "\u001b[?25hDownloading smmap-5.0.1-py3-none-any.whl (24 kB)\n",
            "Installing collected packages: watchdog, tenacity, smmap, pydeck, gitdb, gitpython, streamlit\n",
            "  Attempting uninstall: tenacity\n",
            "    Found existing installation: tenacity 9.0.0\n",
            "    Uninstalling tenacity-9.0.0:\n",
            "      Successfully uninstalled tenacity-9.0.0\n",
            "Successfully installed gitdb-4.0.11 gitpython-3.1.43 pydeck-0.9.1 smmap-5.0.1 streamlit-1.38.0 tenacity-8.5.0 watchdog-4.0.2\n"
          ]
        }
      ]
    },
    {
      "cell_type": "code",
      "source": [
        "import streamlit as st\n",
        "import pandas as pd\n",
        "st.title('Sistema de Recomendação de Produtos')\n",
        "user_input = st.text_input('Digite o nome de um usuário:')\n",
        "if user_input:\n",
        "    recommendations = get_unique_product_recommendations(user_index)\n",
        "    st.write(recommendations)"
      ],
      "metadata": {
        "colab": {
          "base_uri": "https://localhost:8080/"
        },
        "id": "dGHkEhV_D0MD",
        "outputId": "88560dd9-1f5e-4d86-804b-e316dad40abc"
      },
      "execution_count": 19,
      "outputs": [
        {
          "output_type": "stream",
          "name": "stderr",
          "text": [
            "2024-08-29 21:34:20.821 WARNING streamlit.runtime.scriptrunner_utils.script_run_context: Thread 'MainThread': missing ScriptRunContext! This warning can be ignored when running in bare mode.\n",
            "2024-08-29 21:34:21.796 \n",
            "  \u001b[33m\u001b[1mWarning:\u001b[0m to view this Streamlit app on a browser, run it with the following\n",
            "  command:\n",
            "\n",
            "    streamlit run /usr/local/lib/python3.10/dist-packages/colab_kernel_launcher.py [ARGUMENTS]\n",
            "2024-08-29 21:34:21.806 Thread 'MainThread': missing ScriptRunContext! This warning can be ignored when running in bare mode.\n",
            "2024-08-29 21:34:21.809 Thread 'MainThread': missing ScriptRunContext! This warning can be ignored when running in bare mode.\n",
            "2024-08-29 21:34:21.811 Thread 'MainThread': missing ScriptRunContext! This warning can be ignored when running in bare mode.\n",
            "2024-08-29 21:34:21.813 Thread 'MainThread': missing ScriptRunContext! This warning can be ignored when running in bare mode.\n",
            "2024-08-29 21:34:21.815 Session state does not function when running a script without `streamlit run`\n",
            "2024-08-29 21:34:21.818 Thread 'MainThread': missing ScriptRunContext! This warning can be ignored when running in bare mode.\n",
            "2024-08-29 21:34:21.821 Thread 'MainThread': missing ScriptRunContext! This warning can be ignored when running in bare mode.\n"
          ]
        }
      ]
    },
    {
      "cell_type": "code",
      "source": [
        "!pip install streamlit\n",
        "!pip install pyngrok"
      ],
      "metadata": {
        "colab": {
          "base_uri": "https://localhost:8080/"
        },
        "id": "WwvcN6iMD8uV",
        "outputId": "89ddc51c-6eda-4c45-be93-fbe95d8df14d"
      },
      "execution_count": 20,
      "outputs": [
        {
          "output_type": "stream",
          "name": "stdout",
          "text": [
            "Requirement already satisfied: streamlit in /usr/local/lib/python3.10/dist-packages (1.38.0)\n",
            "Requirement already satisfied: altair<6,>=4.0 in /usr/local/lib/python3.10/dist-packages (from streamlit) (4.2.2)\n",
            "Requirement already satisfied: blinker<2,>=1.0.0 in /usr/lib/python3/dist-packages (from streamlit) (1.4)\n",
            "Requirement already satisfied: cachetools<6,>=4.0 in /usr/local/lib/python3.10/dist-packages (from streamlit) (5.5.0)\n",
            "Requirement already satisfied: click<9,>=7.0 in /usr/local/lib/python3.10/dist-packages (from streamlit) (8.1.7)\n",
            "Requirement already satisfied: numpy<3,>=1.20 in /usr/local/lib/python3.10/dist-packages (from streamlit) (1.26.4)\n",
            "Requirement already satisfied: packaging<25,>=20 in /usr/local/lib/python3.10/dist-packages (from streamlit) (24.1)\n",
            "Requirement already satisfied: pandas<3,>=1.3.0 in /usr/local/lib/python3.10/dist-packages (from streamlit) (2.1.4)\n",
            "Requirement already satisfied: pillow<11,>=7.1.0 in /usr/local/lib/python3.10/dist-packages (from streamlit) (9.4.0)\n",
            "Requirement already satisfied: protobuf<6,>=3.20 in /usr/local/lib/python3.10/dist-packages (from streamlit) (3.20.3)\n",
            "Requirement already satisfied: pyarrow>=7.0 in /usr/local/lib/python3.10/dist-packages (from streamlit) (14.0.2)\n",
            "Requirement already satisfied: requests<3,>=2.27 in /usr/local/lib/python3.10/dist-packages (from streamlit) (2.32.3)\n",
            "Requirement already satisfied: rich<14,>=10.14.0 in /usr/local/lib/python3.10/dist-packages (from streamlit) (13.8.0)\n",
            "Requirement already satisfied: tenacity<9,>=8.1.0 in /usr/local/lib/python3.10/dist-packages (from streamlit) (8.5.0)\n",
            "Requirement already satisfied: toml<2,>=0.10.1 in /usr/local/lib/python3.10/dist-packages (from streamlit) (0.10.2)\n",
            "Requirement already satisfied: typing-extensions<5,>=4.3.0 in /usr/local/lib/python3.10/dist-packages (from streamlit) (4.12.2)\n",
            "Requirement already satisfied: gitpython!=3.1.19,<4,>=3.0.7 in /usr/local/lib/python3.10/dist-packages (from streamlit) (3.1.43)\n",
            "Requirement already satisfied: pydeck<1,>=0.8.0b4 in /usr/local/lib/python3.10/dist-packages (from streamlit) (0.9.1)\n",
            "Requirement already satisfied: tornado<7,>=6.0.3 in /usr/local/lib/python3.10/dist-packages (from streamlit) (6.3.3)\n",
            "Requirement already satisfied: watchdog<5,>=2.1.5 in /usr/local/lib/python3.10/dist-packages (from streamlit) (4.0.2)\n",
            "Requirement already satisfied: entrypoints in /usr/local/lib/python3.10/dist-packages (from altair<6,>=4.0->streamlit) (0.4)\n",
            "Requirement already satisfied: jinja2 in /usr/local/lib/python3.10/dist-packages (from altair<6,>=4.0->streamlit) (3.1.4)\n",
            "Requirement already satisfied: jsonschema>=3.0 in /usr/local/lib/python3.10/dist-packages (from altair<6,>=4.0->streamlit) (4.23.0)\n",
            "Requirement already satisfied: toolz in /usr/local/lib/python3.10/dist-packages (from altair<6,>=4.0->streamlit) (0.12.1)\n",
            "Requirement already satisfied: gitdb<5,>=4.0.1 in /usr/local/lib/python3.10/dist-packages (from gitpython!=3.1.19,<4,>=3.0.7->streamlit) (4.0.11)\n",
            "Requirement already satisfied: python-dateutil>=2.8.2 in /usr/local/lib/python3.10/dist-packages (from pandas<3,>=1.3.0->streamlit) (2.8.2)\n",
            "Requirement already satisfied: pytz>=2020.1 in /usr/local/lib/python3.10/dist-packages (from pandas<3,>=1.3.0->streamlit) (2024.1)\n",
            "Requirement already satisfied: tzdata>=2022.1 in /usr/local/lib/python3.10/dist-packages (from pandas<3,>=1.3.0->streamlit) (2024.1)\n",
            "Requirement already satisfied: charset-normalizer<4,>=2 in /usr/local/lib/python3.10/dist-packages (from requests<3,>=2.27->streamlit) (3.3.2)\n",
            "Requirement already satisfied: idna<4,>=2.5 in /usr/local/lib/python3.10/dist-packages (from requests<3,>=2.27->streamlit) (3.8)\n",
            "Requirement already satisfied: urllib3<3,>=1.21.1 in /usr/local/lib/python3.10/dist-packages (from requests<3,>=2.27->streamlit) (2.0.7)\n",
            "Requirement already satisfied: certifi>=2017.4.17 in /usr/local/lib/python3.10/dist-packages (from requests<3,>=2.27->streamlit) (2024.7.4)\n",
            "Requirement already satisfied: markdown-it-py>=2.2.0 in /usr/local/lib/python3.10/dist-packages (from rich<14,>=10.14.0->streamlit) (3.0.0)\n",
            "Requirement already satisfied: pygments<3.0.0,>=2.13.0 in /usr/local/lib/python3.10/dist-packages (from rich<14,>=10.14.0->streamlit) (2.16.1)\n",
            "Requirement already satisfied: smmap<6,>=3.0.1 in /usr/local/lib/python3.10/dist-packages (from gitdb<5,>=4.0.1->gitpython!=3.1.19,<4,>=3.0.7->streamlit) (5.0.1)\n",
            "Requirement already satisfied: MarkupSafe>=2.0 in /usr/local/lib/python3.10/dist-packages (from jinja2->altair<6,>=4.0->streamlit) (2.1.5)\n",
            "Requirement already satisfied: attrs>=22.2.0 in /usr/local/lib/python3.10/dist-packages (from jsonschema>=3.0->altair<6,>=4.0->streamlit) (24.2.0)\n",
            "Requirement already satisfied: jsonschema-specifications>=2023.03.6 in /usr/local/lib/python3.10/dist-packages (from jsonschema>=3.0->altair<6,>=4.0->streamlit) (2023.12.1)\n",
            "Requirement already satisfied: referencing>=0.28.4 in /usr/local/lib/python3.10/dist-packages (from jsonschema>=3.0->altair<6,>=4.0->streamlit) (0.35.1)\n",
            "Requirement already satisfied: rpds-py>=0.7.1 in /usr/local/lib/python3.10/dist-packages (from jsonschema>=3.0->altair<6,>=4.0->streamlit) (0.20.0)\n",
            "Requirement already satisfied: mdurl~=0.1 in /usr/local/lib/python3.10/dist-packages (from markdown-it-py>=2.2.0->rich<14,>=10.14.0->streamlit) (0.1.2)\n",
            "Requirement already satisfied: six>=1.5 in /usr/local/lib/python3.10/dist-packages (from python-dateutil>=2.8.2->pandas<3,>=1.3.0->streamlit) (1.16.0)\n",
            "Collecting pyngrok\n",
            "  Downloading pyngrok-7.2.0-py3-none-any.whl.metadata (7.4 kB)\n",
            "Requirement already satisfied: PyYAML>=5.1 in /usr/local/lib/python3.10/dist-packages (from pyngrok) (6.0.2)\n",
            "Downloading pyngrok-7.2.0-py3-none-any.whl (22 kB)\n",
            "Installing collected packages: pyngrok\n",
            "Successfully installed pyngrok-7.2.0\n"
          ]
        }
      ]
    },
    {
      "cell_type": "code",
      "source": [
        "%%writefile app.py\n",
        "import streamlit as st\n",
        "import pandas as pd\n",
        "st.title('Sistema de Recomendação de Produtos')\n",
        "user_input = st.text_input('Digite o nome de um usuário:')\n",
        "if user_input:\n",
        "    recommendations = \"Aqui estariam as recomendações para o usuário \" + user_input\n",
        "    st.write(recommendations)"
      ],
      "metadata": {
        "colab": {
          "base_uri": "https://localhost:8080/"
        },
        "id": "P9ftjEgfD_pD",
        "outputId": "0096fa01-047b-4571-957a-1aa0d2c7810a"
      },
      "execution_count": 21,
      "outputs": [
        {
          "output_type": "stream",
          "name": "stdout",
          "text": [
            "Writing app.py\n"
          ]
        }
      ]
    },
    {
      "cell_type": "code",
      "source": [
        "!pip install gradio"
      ],
      "metadata": {
        "colab": {
          "base_uri": "https://localhost:8080/"
        },
        "id": "dhN4NxR5ECrW",
        "outputId": "ba9e5b9d-3a4a-49ef-fd12-80ab958870c2"
      },
      "execution_count": 22,
      "outputs": [
        {
          "output_type": "stream",
          "name": "stdout",
          "text": [
            "Collecting gradio\n",
            "  Downloading gradio-4.42.0-py3-none-any.whl.metadata (15 kB)\n",
            "Collecting aiofiles<24.0,>=22.0 (from gradio)\n",
            "  Downloading aiofiles-23.2.1-py3-none-any.whl.metadata (9.7 kB)\n",
            "Requirement already satisfied: anyio<5.0,>=3.0 in /usr/local/lib/python3.10/dist-packages (from gradio) (3.7.1)\n",
            "Collecting fastapi (from gradio)\n",
            "  Downloading fastapi-0.112.2-py3-none-any.whl.metadata (27 kB)\n",
            "Collecting ffmpy (from gradio)\n",
            "  Downloading ffmpy-0.4.0-py3-none-any.whl.metadata (2.9 kB)\n",
            "Collecting gradio-client==1.3.0 (from gradio)\n",
            "  Downloading gradio_client-1.3.0-py3-none-any.whl.metadata (7.1 kB)\n",
            "Collecting httpx>=0.24.1 (from gradio)\n",
            "  Downloading httpx-0.27.2-py3-none-any.whl.metadata (7.1 kB)\n",
            "Requirement already satisfied: huggingface-hub>=0.19.3 in /usr/local/lib/python3.10/dist-packages (from gradio) (0.23.5)\n",
            "Requirement already satisfied: importlib-resources<7.0,>=1.3 in /usr/local/lib/python3.10/dist-packages (from gradio) (6.4.4)\n",
            "Requirement already satisfied: jinja2<4.0 in /usr/local/lib/python3.10/dist-packages (from gradio) (3.1.4)\n",
            "Requirement already satisfied: markupsafe~=2.0 in /usr/local/lib/python3.10/dist-packages (from gradio) (2.1.5)\n",
            "Requirement already satisfied: matplotlib~=3.0 in /usr/local/lib/python3.10/dist-packages (from gradio) (3.7.1)\n",
            "Requirement already satisfied: numpy<3.0,>=1.0 in /usr/local/lib/python3.10/dist-packages (from gradio) (1.26.4)\n",
            "Collecting orjson~=3.0 (from gradio)\n",
            "  Downloading orjson-3.10.7-cp310-cp310-manylinux_2_17_x86_64.manylinux2014_x86_64.whl.metadata (50 kB)\n",
            "\u001b[2K     \u001b[90m━━━━━━━━━━━━━━━━━━━━━━━━━━━━━━━━━━━━━━━━\u001b[0m \u001b[32m50.4/50.4 kB\u001b[0m \u001b[31m2.3 MB/s\u001b[0m eta \u001b[36m0:00:00\u001b[0m\n",
            "\u001b[?25hRequirement already satisfied: packaging in /usr/local/lib/python3.10/dist-packages (from gradio) (24.1)\n",
            "Requirement already satisfied: pandas<3.0,>=1.0 in /usr/local/lib/python3.10/dist-packages (from gradio) (2.1.4)\n",
            "Requirement already satisfied: pillow<11.0,>=8.0 in /usr/local/lib/python3.10/dist-packages (from gradio) (9.4.0)\n",
            "Requirement already satisfied: pydantic>=2.0 in /usr/local/lib/python3.10/dist-packages (from gradio) (2.8.2)\n",
            "Collecting pydub (from gradio)\n",
            "  Downloading pydub-0.25.1-py2.py3-none-any.whl.metadata (1.4 kB)\n",
            "Collecting python-multipart>=0.0.9 (from gradio)\n",
            "  Downloading python_multipart-0.0.9-py3-none-any.whl.metadata (2.5 kB)\n",
            "Requirement already satisfied: pyyaml<7.0,>=5.0 in /usr/local/lib/python3.10/dist-packages (from gradio) (6.0.2)\n",
            "Collecting ruff>=0.2.2 (from gradio)\n",
            "  Downloading ruff-0.6.3-py3-none-manylinux_2_17_x86_64.manylinux2014_x86_64.whl.metadata (25 kB)\n",
            "Collecting semantic-version~=2.0 (from gradio)\n",
            "  Downloading semantic_version-2.10.0-py2.py3-none-any.whl.metadata (9.7 kB)\n",
            "Collecting tomlkit==0.12.0 (from gradio)\n",
            "  Downloading tomlkit-0.12.0-py3-none-any.whl.metadata (2.7 kB)\n",
            "Requirement already satisfied: typer<1.0,>=0.12 in /usr/local/lib/python3.10/dist-packages (from gradio) (0.12.5)\n",
            "Requirement already satisfied: typing-extensions~=4.0 in /usr/local/lib/python3.10/dist-packages (from gradio) (4.12.2)\n",
            "Requirement already satisfied: urllib3~=2.0 in /usr/local/lib/python3.10/dist-packages (from gradio) (2.0.7)\n",
            "Collecting uvicorn>=0.14.0 (from gradio)\n",
            "  Downloading uvicorn-0.30.6-py3-none-any.whl.metadata (6.6 kB)\n",
            "Requirement already satisfied: fsspec in /usr/local/lib/python3.10/dist-packages (from gradio-client==1.3.0->gradio) (2024.6.1)\n",
            "Collecting websockets<13.0,>=10.0 (from gradio-client==1.3.0->gradio)\n",
            "  Downloading websockets-12.0-cp310-cp310-manylinux_2_5_x86_64.manylinux1_x86_64.manylinux_2_17_x86_64.manylinux2014_x86_64.whl.metadata (6.6 kB)\n",
            "Requirement already satisfied: idna>=2.8 in /usr/local/lib/python3.10/dist-packages (from anyio<5.0,>=3.0->gradio) (3.8)\n",
            "Requirement already satisfied: sniffio>=1.1 in /usr/local/lib/python3.10/dist-packages (from anyio<5.0,>=3.0->gradio) (1.3.1)\n",
            "Requirement already satisfied: exceptiongroup in /usr/local/lib/python3.10/dist-packages (from anyio<5.0,>=3.0->gradio) (1.2.2)\n",
            "Requirement already satisfied: certifi in /usr/local/lib/python3.10/dist-packages (from httpx>=0.24.1->gradio) (2024.7.4)\n",
            "Collecting httpcore==1.* (from httpx>=0.24.1->gradio)\n",
            "  Downloading httpcore-1.0.5-py3-none-any.whl.metadata (20 kB)\n",
            "Collecting h11<0.15,>=0.13 (from httpcore==1.*->httpx>=0.24.1->gradio)\n",
            "  Downloading h11-0.14.0-py3-none-any.whl.metadata (8.2 kB)\n",
            "Requirement already satisfied: filelock in /usr/local/lib/python3.10/dist-packages (from huggingface-hub>=0.19.3->gradio) (3.15.4)\n",
            "Requirement already satisfied: requests in /usr/local/lib/python3.10/dist-packages (from huggingface-hub>=0.19.3->gradio) (2.32.3)\n",
            "Requirement already satisfied: tqdm>=4.42.1 in /usr/local/lib/python3.10/dist-packages (from huggingface-hub>=0.19.3->gradio) (4.66.5)\n",
            "Requirement already satisfied: contourpy>=1.0.1 in /usr/local/lib/python3.10/dist-packages (from matplotlib~=3.0->gradio) (1.2.1)\n",
            "Requirement already satisfied: cycler>=0.10 in /usr/local/lib/python3.10/dist-packages (from matplotlib~=3.0->gradio) (0.12.1)\n",
            "Requirement already satisfied: fonttools>=4.22.0 in /usr/local/lib/python3.10/dist-packages (from matplotlib~=3.0->gradio) (4.53.1)\n",
            "Requirement already satisfied: kiwisolver>=1.0.1 in /usr/local/lib/python3.10/dist-packages (from matplotlib~=3.0->gradio) (1.4.5)\n",
            "Requirement already satisfied: pyparsing>=2.3.1 in /usr/local/lib/python3.10/dist-packages (from matplotlib~=3.0->gradio) (3.1.4)\n",
            "Requirement already satisfied: python-dateutil>=2.7 in /usr/local/lib/python3.10/dist-packages (from matplotlib~=3.0->gradio) (2.8.2)\n",
            "Requirement already satisfied: pytz>=2020.1 in /usr/local/lib/python3.10/dist-packages (from pandas<3.0,>=1.0->gradio) (2024.1)\n",
            "Requirement already satisfied: tzdata>=2022.1 in /usr/local/lib/python3.10/dist-packages (from pandas<3.0,>=1.0->gradio) (2024.1)\n",
            "Requirement already satisfied: annotated-types>=0.4.0 in /usr/local/lib/python3.10/dist-packages (from pydantic>=2.0->gradio) (0.7.0)\n",
            "Requirement already satisfied: pydantic-core==2.20.1 in /usr/local/lib/python3.10/dist-packages (from pydantic>=2.0->gradio) (2.20.1)\n",
            "Requirement already satisfied: click>=8.0.0 in /usr/local/lib/python3.10/dist-packages (from typer<1.0,>=0.12->gradio) (8.1.7)\n",
            "Requirement already satisfied: shellingham>=1.3.0 in /usr/local/lib/python3.10/dist-packages (from typer<1.0,>=0.12->gradio) (1.5.4)\n",
            "Requirement already satisfied: rich>=10.11.0 in /usr/local/lib/python3.10/dist-packages (from typer<1.0,>=0.12->gradio) (13.8.0)\n",
            "Collecting starlette<0.39.0,>=0.37.2 (from fastapi->gradio)\n",
            "  Downloading starlette-0.38.2-py3-none-any.whl.metadata (5.9 kB)\n",
            "Requirement already satisfied: six>=1.5 in /usr/local/lib/python3.10/dist-packages (from python-dateutil>=2.7->matplotlib~=3.0->gradio) (1.16.0)\n",
            "Requirement already satisfied: markdown-it-py>=2.2.0 in /usr/local/lib/python3.10/dist-packages (from rich>=10.11.0->typer<1.0,>=0.12->gradio) (3.0.0)\n",
            "Requirement already satisfied: pygments<3.0.0,>=2.13.0 in /usr/local/lib/python3.10/dist-packages (from rich>=10.11.0->typer<1.0,>=0.12->gradio) (2.16.1)\n",
            "Requirement already satisfied: charset-normalizer<4,>=2 in /usr/local/lib/python3.10/dist-packages (from requests->huggingface-hub>=0.19.3->gradio) (3.3.2)\n",
            "Requirement already satisfied: mdurl~=0.1 in /usr/local/lib/python3.10/dist-packages (from markdown-it-py>=2.2.0->rich>=10.11.0->typer<1.0,>=0.12->gradio) (0.1.2)\n",
            "Downloading gradio-4.42.0-py3-none-any.whl (16.8 MB)\n",
            "\u001b[2K   \u001b[90m━━━━━━━━━━━━━━━━━━━━━━━━━━━━━━━━━━━━━━━━\u001b[0m \u001b[32m16.8/16.8 MB\u001b[0m \u001b[31m48.9 MB/s\u001b[0m eta \u001b[36m0:00:00\u001b[0m\n",
            "\u001b[?25hDownloading gradio_client-1.3.0-py3-none-any.whl (318 kB)\n",
            "\u001b[2K   \u001b[90m━━━━━━━━━━━━━━━━━━━━━━━━━━━━━━━━━━━━━━━━\u001b[0m \u001b[32m318.7/318.7 kB\u001b[0m \u001b[31m20.9 MB/s\u001b[0m eta \u001b[36m0:00:00\u001b[0m\n",
            "\u001b[?25hDownloading tomlkit-0.12.0-py3-none-any.whl (37 kB)\n",
            "Downloading aiofiles-23.2.1-py3-none-any.whl (15 kB)\n",
            "Downloading httpx-0.27.2-py3-none-any.whl (76 kB)\n",
            "\u001b[2K   \u001b[90m━━━━━━━━━━━━━━━━━━━━━━━━━━━━━━━━━━━━━━━━\u001b[0m \u001b[32m76.4/76.4 kB\u001b[0m \u001b[31m5.9 MB/s\u001b[0m eta \u001b[36m0:00:00\u001b[0m\n",
            "\u001b[?25hDownloading httpcore-1.0.5-py3-none-any.whl (77 kB)\n",
            "\u001b[2K   \u001b[90m━━━━━━━━━━━━━━━━━━━━━━━━━━━━━━━━━━━━━━━━\u001b[0m \u001b[32m77.9/77.9 kB\u001b[0m \u001b[31m5.9 MB/s\u001b[0m eta \u001b[36m0:00:00\u001b[0m\n",
            "\u001b[?25hDownloading orjson-3.10.7-cp310-cp310-manylinux_2_17_x86_64.manylinux2014_x86_64.whl (141 kB)\n",
            "\u001b[2K   \u001b[90m━━━━━━━━━━━━━━━━━━━━━━━━━━━━━━━━━━━━━━━━\u001b[0m \u001b[32m141.9/141.9 kB\u001b[0m \u001b[31m10.6 MB/s\u001b[0m eta \u001b[36m0:00:00\u001b[0m\n",
            "\u001b[?25hDownloading python_multipart-0.0.9-py3-none-any.whl (22 kB)\n",
            "Downloading ruff-0.6.3-py3-none-manylinux_2_17_x86_64.manylinux2014_x86_64.whl (10.3 MB)\n",
            "\u001b[2K   \u001b[90m━━━━━━━━━━━━━━━━━━━━━━━━━━━━━━━━━━━━━━━━\u001b[0m \u001b[32m10.3/10.3 MB\u001b[0m \u001b[31m64.3 MB/s\u001b[0m eta \u001b[36m0:00:00\u001b[0m\n",
            "\u001b[?25hDownloading semantic_version-2.10.0-py2.py3-none-any.whl (15 kB)\n",
            "Downloading uvicorn-0.30.6-py3-none-any.whl (62 kB)\n",
            "\u001b[2K   \u001b[90m━━━━━━━━━━━━━━━━━━━━━━━━━━━━━━━━━━━━━━━━\u001b[0m \u001b[32m62.8/62.8 kB\u001b[0m \u001b[31m4.7 MB/s\u001b[0m eta \u001b[36m0:00:00\u001b[0m\n",
            "\u001b[?25hDownloading fastapi-0.112.2-py3-none-any.whl (93 kB)\n",
            "\u001b[2K   \u001b[90m━━━━━━━━━━━━━━━━━━━━━━━━━━━━━━━━━━━━━━━━\u001b[0m \u001b[32m93.5/93.5 kB\u001b[0m \u001b[31m7.4 MB/s\u001b[0m eta \u001b[36m0:00:00\u001b[0m\n",
            "\u001b[?25hDownloading ffmpy-0.4.0-py3-none-any.whl (5.8 kB)\n",
            "Downloading pydub-0.25.1-py2.py3-none-any.whl (32 kB)\n",
            "Downloading h11-0.14.0-py3-none-any.whl (58 kB)\n",
            "\u001b[2K   \u001b[90m━━━━━━━━━━━━━━━━━━━━━━━━━━━━━━━━━━━━━━━━\u001b[0m \u001b[32m58.3/58.3 kB\u001b[0m \u001b[31m4.2 MB/s\u001b[0m eta \u001b[36m0:00:00\u001b[0m\n",
            "\u001b[?25hDownloading starlette-0.38.2-py3-none-any.whl (72 kB)\n",
            "\u001b[2K   \u001b[90m━━━━━━━━━━━━━━━━━━━━━━━━━━━━━━━━━━━━━━━━\u001b[0m \u001b[32m72.0/72.0 kB\u001b[0m \u001b[31m5.6 MB/s\u001b[0m eta \u001b[36m0:00:00\u001b[0m\n",
            "\u001b[?25hDownloading websockets-12.0-cp310-cp310-manylinux_2_5_x86_64.manylinux1_x86_64.manylinux_2_17_x86_64.manylinux2014_x86_64.whl (130 kB)\n",
            "\u001b[2K   \u001b[90m━━━━━━━━━━━━━━━━━━━━━━━━━━━━━━━━━━━━━━━━\u001b[0m \u001b[32m130.2/130.2 kB\u001b[0m \u001b[31m7.9 MB/s\u001b[0m eta \u001b[36m0:00:00\u001b[0m\n",
            "\u001b[?25hInstalling collected packages: pydub, websockets, tomlkit, semantic-version, ruff, python-multipart, orjson, h11, ffmpy, aiofiles, uvicorn, starlette, httpcore, httpx, fastapi, gradio-client, gradio\n",
            "  Attempting uninstall: tomlkit\n",
            "    Found existing installation: tomlkit 0.13.2\n",
            "    Uninstalling tomlkit-0.13.2:\n",
            "      Successfully uninstalled tomlkit-0.13.2\n",
            "Successfully installed aiofiles-23.2.1 fastapi-0.112.2 ffmpy-0.4.0 gradio-4.42.0 gradio-client-1.3.0 h11-0.14.0 httpcore-1.0.5 httpx-0.27.2 orjson-3.10.7 pydub-0.25.1 python-multipart-0.0.9 ruff-0.6.3 semantic-version-2.10.0 starlette-0.38.2 tomlkit-0.12.0 uvicorn-0.30.6 websockets-12.0\n"
          ]
        }
      ]
    },
    {
      "cell_type": "code",
      "source": [
        "import gradio as gr\n",
        "def recommend(user_input):\n",
        "    recommendations = f\"Aqui estariam as recomendações para o usuário {user_input}\"\n",
        "    return recommendations\n",
        "gr.Interface(\n",
        "    fn=recommend,\n",
        "    inputs=\"text\",\n",
        "    outputs=\"text\",\n",
        "    title=\"Sistema de Recomendação de Produtos\",\n",
        "    description=\"Digite o nome de um usuário para obter recomendações.\"\n",
        ").launch()"
      ],
      "metadata": {
        "colab": {
          "base_uri": "https://localhost:8080/",
          "height": 626
        },
        "id": "zqqAhS_dEFks",
        "outputId": "898b3a52-ecd5-48c6-ae58-e8faa46b8ad3"
      },
      "execution_count": 23,
      "outputs": [
        {
          "output_type": "stream",
          "name": "stdout",
          "text": [
            "Setting queue=True in a Colab notebook requires sharing enabled. Setting `share=True` (you can turn this off by setting `share=False` in `launch()` explicitly).\n",
            "\n",
            "Colab notebook detected. To show errors in colab notebook, set debug=True in launch()\n",
            "Running on public URL: https://adf4f07663fee5af54.gradio.live\n",
            "\n",
            "This share link expires in 72 hours. For free permanent hosting and GPU upgrades, run `gradio deploy` from Terminal to deploy to Spaces (https://huggingface.co/spaces)\n"
          ]
        },
        {
          "output_type": "display_data",
          "data": {
            "text/plain": [
              "<IPython.core.display.HTML object>"
            ],
            "text/html": [
              "<div><iframe src=\"https://adf4f07663fee5af54.gradio.live\" width=\"100%\" height=\"500\" allow=\"autoplay; camera; microphone; clipboard-read; clipboard-write;\" frameborder=\"0\" allowfullscreen></iframe></div>"
            ]
          },
          "metadata": {}
        },
        {
          "output_type": "execute_result",
          "data": {
            "text/plain": []
          },
          "metadata": {},
          "execution_count": 23
        }
      ]
    },
    {
      "cell_type": "code",
      "source": [
        "import gradio as gr\n",
        "def recommend(user_input):\n",
        "    recommendations = get_unique_product_recommendations(user_input)\n",
        "    return recommendations.to_string(index=False)\n",
        "gr.Interface(\n",
        "    fn=recommend,\n",
        "    inputs=\"text\",\n",
        "    outputs=\"text\",\n",
        "    title=\"Sistema de Recomendação de Produtos\",\n",
        "    description=\"Digite o nome de um usuário para obter recomendações.\"\n",
        ").launch()"
      ],
      "metadata": {
        "colab": {
          "base_uri": "https://localhost:8080/",
          "height": 626
        },
        "id": "wruUJQE1EO7X",
        "outputId": "56f33860-8b95-4769-d790-d0b9be5dad0d"
      },
      "execution_count": 24,
      "outputs": [
        {
          "output_type": "stream",
          "name": "stdout",
          "text": [
            "Setting queue=True in a Colab notebook requires sharing enabled. Setting `share=True` (you can turn this off by setting `share=False` in `launch()` explicitly).\n",
            "\n",
            "Colab notebook detected. To show errors in colab notebook, set debug=True in launch()\n",
            "Running on public URL: https://62a072148c67c15c06.gradio.live\n",
            "\n",
            "This share link expires in 72 hours. For free permanent hosting and GPU upgrades, run `gradio deploy` from Terminal to deploy to Spaces (https://huggingface.co/spaces)\n"
          ]
        },
        {
          "output_type": "display_data",
          "data": {
            "text/plain": [
              "<IPython.core.display.HTML object>"
            ],
            "text/html": [
              "<div><iframe src=\"https://62a072148c67c15c06.gradio.live\" width=\"100%\" height=\"500\" allow=\"autoplay; camera; microphone; clipboard-read; clipboard-write;\" frameborder=\"0\" allowfullscreen></iframe></div>"
            ]
          },
          "metadata": {}
        },
        {
          "output_type": "execute_result",
          "data": {
            "text/plain": []
          },
          "metadata": {},
          "execution_count": 24
        }
      ]
    },
    {
      "cell_type": "code",
      "source": [
        "import gradio as gr\n",
        "import pandas as pd\n",
        "\n",
        "def recomendar_avancado(nome_usuario, classificacao_minima, classificacao_maxima, categoria_filtro):\n",
        "    recomendacoes = obter_recomendacoes_avancadas(nome_usuario)\n",
        "    if categoria_filtro != 'Todos':\n",
        "        recomendacoes = recomendacoes[recomendacoes['categoria'] == categoria_filtro]\n",
        "    recomendacoes = recomendacoes[\n",
        "        (recomendacoes['classificacao'] >= classificacao_minima) &\n",
        "        (recomendacoes['classificacao'] <= classificacao_maxima)\n",
        "    ]\n",
        "    return recomendacoes[['nome_produto', 'classificacao', 'texto_resenha']].to_string(index=False)\n",
        "feedback_data = []\n",
        "\n",
        "def coletar_feedback(recomendacoes, texto_feedback):\n",
        "    feedback_data.append({'recomendacoes': recomendacoes, 'feedback': texto_feedback})\n",
        "    return \"Obrigado pelo seu feedback!\"\n",
        "with gr.Blocks() as demo:\n",
        "    gr.Markdown(\"<h1 align='center'>Sistema Avançado de Recomendação de Produtos</h1>\")\n",
        "    gr.Markdown(\"Utilize os filtros abaixo para personalizar suas recomendações.\")\n",
        "    with gr.Row():\n",
        "        nome_usuario = gr.Textbox(label=\"Nome do Usuário\", placeholder=\"Digite o nome de um usuário\", lines=1)\n",
        "        classificacao_minima = gr.Slider(label=\"Classificação Mínima\", minimum=1, maximum=5, step=0.5, value=1)\n",
        "        classificacao_maxima = gr.Slider(label=\"Classificação Máxima\", minimum=1, maximum=5, step=0.5, value=5)\n",
        "        categoria_filtro = gr.Dropdown(label=\"Categoria do Produto\", choices=['Todos', 'Eletrônicos', 'Livros', 'Casa e Cozinha'], value='Todos')\n",
        "    with gr.Row():\n",
        "        botao_enviar = gr.Button(\"Obter Recomendações\")\n",
        "    saida_recomendacoes = gr.Textbox(label=\"Recomendações de Produtos\", lines=10)\n",
        "    with gr.Row():\n",
        "        texto_feedback = gr.Textbox(label=\"Feedback\", placeholder=\"Digite seu feedback aqui...\")\n",
        "        enviar_feedback = gr.Button(\"Enviar Feedback\")\n",
        "        saida_feedback = gr.Textbox(label=\"Mensagem de Confirmação\", lines=1)\n",
        "    botao_enviar.click(\n",
        "        fn=recomendar_avancado,\n",
        "        inputs=[nome_usuario, classificacao_minima, classificacao_maxima, categoria_filtro],\n",
        "        outputs=saida_recomendacoes\n",
        "    )\n",
        "\n",
        "    enviar_feedback.click(\n",
        "        fn=coletar_feedback,\n",
        "        inputs=[saida_recomendacoes, texto_feedback],\n",
        "        outputs=saida_feedback\n",
        "    )\n",
        "demo.launch(share=True)"
      ],
      "metadata": {
        "colab": {
          "base_uri": "https://localhost:8080/",
          "height": 591
        },
        "id": "HVC1dfVnEZos",
        "outputId": "fbc5e8bf-3a43-4a24-ce5a-3af7980ee1d8"
      },
      "execution_count": 25,
      "outputs": [
        {
          "output_type": "stream",
          "name": "stdout",
          "text": [
            "Colab notebook detected. To show errors in colab notebook, set debug=True in launch()\n",
            "Running on public URL: https://9ecc33ae479469bf36.gradio.live\n",
            "\n",
            "This share link expires in 72 hours. For free permanent hosting and GPU upgrades, run `gradio deploy` from Terminal to deploy to Spaces (https://huggingface.co/spaces)\n"
          ]
        },
        {
          "output_type": "display_data",
          "data": {
            "text/plain": [
              "<IPython.core.display.HTML object>"
            ],
            "text/html": [
              "<div><iframe src=\"https://9ecc33ae479469bf36.gradio.live\" width=\"100%\" height=\"500\" allow=\"autoplay; camera; microphone; clipboard-read; clipboard-write;\" frameborder=\"0\" allowfullscreen></iframe></div>"
            ]
          },
          "metadata": {}
        },
        {
          "output_type": "execute_result",
          "data": {
            "text/plain": []
          },
          "metadata": {},
          "execution_count": 25
        }
      ]
    },
    {
      "cell_type": "code",
      "source": [
        "import gradio as gr\n",
        "import pandas as pd\n",
        "import numpy as np\n",
        "from sklearn.feature_extraction.text import TfidfVectorizer\n",
        "from sklearn.metrics.pairwise import cosine_similarity\n",
        "import matplotlib.pyplot as plt\n",
        "dados = pd.DataFrame({\n",
        "    'nome_produto': ['Produto A', 'Produto B', 'Produto C'],\n",
        "    'categoria': ['Eletrônicos', 'Livros', 'Casa e Cozinha'],\n",
        "    'classificacao': [4.5, 4.0, 3.5],\n",
        "    'texto_resenha': ['Produto muito bom e útil.', 'Livro interessante.', 'Bom para uso diário.']\n",
        "})\n",
        "tfidf_vectorizer = TfidfVectorizer(stop_words='english')\n",
        "tfidf_matrix = tfidf_vectorizer.fit_transform(dados['texto_resenha'])\n",
        "def recomendar_avancado(nome_usuario, classificacao_minima, classificacao_maxima, categoria_filtro):\n",
        "    if categoria_filtro != 'Todos':\n",
        "        dados_filtrados = dados[dados['categoria'] == categoria_filtro]\n",
        "    else:\n",
        "        dados_filtrados = dados.copy()\n",
        "    dados_filtrados = dados_filtrados[\n",
        "        (dados_filtrados['classificacao'] >= classificacao_minima) &\n",
        "        (dados_filtrados['classificacao'] <= classificacao_maxima)\n",
        "    ]\n",
        "    similaridade = cosine_similarity(tfidf_matrix, tfidf_matrix)\n",
        "    idx_aleatorio = np.random.choice(dados_filtrados.index)\n",
        "    recomendacoes_idx = np.argsort(similaridade[idx_aleatorio])[::-1][1:6]\n",
        "    recomendacoes = dados.iloc[recomendacoes_idx][['nome_produto', 'classificacao', 'texto_resenha']]\n",
        "\n",
        "    return recomendacoes.to_string(index=False)\n",
        "feedback_data = []\n",
        "\n",
        "def coletar_feedback(recomendacoes, texto_feedback):\n",
        "    feedback_data.append({'recomendacoes': recomendacoes, 'feedback': texto_feedback})\n",
        "    return \"Obrigado pelo seu feedback!\"\n",
        "\n",
        "def visualizar_feedback():\n",
        "    if len(feedback_data) > 0:\n",
        "        df_feedback = pd.DataFrame(feedback_data)\n",
        "        feedback_counts = df_feedback['feedback'].value_counts()\n",
        "        fig, ax = plt.subplots()\n",
        "        feedback_counts.plot(kind='bar', ax=ax)\n",
        "        plt.title(\"Distribuição de Feedbacks dos Usuários\")\n",
        "        plt.xlabel(\"Feedback\")\n",
        "        plt.ylabel(\"Contagem\")\n",
        "        plt.show()\n",
        "        return \"Visualização de feedback gerada com sucesso.\"\n",
        "    else:\n",
        "        return \"Nenhum feedback disponível para visualização.\"\n",
        "with gr.Blocks() as demo:\n",
        "    gr.Markdown(\"<h1 align='center'>Sistema Avançado de Recomendação de Produtos</h1>\")\n",
        "    gr.Markdown(\"Utilize os filtros abaixo para personalizar suas recomendações.\")\n",
        "\n",
        "    with gr.Row():\n",
        "        nome_usuario = gr.Textbox(label=\"Nome do Usuário\", placeholder=\"Digite o nome de um usuário\", lines=1)\n",
        "        classificacao_minima = gr.Slider(label=\"Classificação Mínima\", minimum=1, maximum=5, step=0.5, value=1)\n",
        "        classificacao_maxima = gr.Slider(label=\"Classificação Máxima\", minimum=1, maximum=5, step=0.5, value=5)\n",
        "        categoria_filtro = gr.Dropdown(label=\"Categoria do Produto\", choices=['Todos', 'Eletrônicos', 'Livros', 'Casa e Cozinha'], value='Todos')\n",
        "\n",
        "    with gr.Row():\n",
        "        botao_enviar = gr.Button(\"Obter Recomendações\")\n",
        "\n",
        "    saida_recomendacoes = gr.Textbox(label=\"Recomendações de Produtos\", lines=10)\n",
        "\n",
        "    with gr.Row():\n",
        "        texto_feedback = gr.Textbox(label=\"Feedback\", placeholder=\"Digite seu feedback aqui...\")\n",
        "        enviar_feedback = gr.Button(\"Enviar Feedback\")\n",
        "        saida_feedback = gr.Textbox(label=\"Mensagem de Confirmação\", lines=1)\n",
        "    with gr.Row():\n",
        "        visualizar_feedbacks = gr.Button(\"Visualizar Feedbacks\")\n",
        "\n",
        "    botao_enviar.click(\n",
        "        fn=recomendar_avancado,\n",
        "        inputs=[nome_usuario, classificacao_minima, classificacao_maxima, categoria_filtro],\n",
        "        outputs=saida_recomendacoes\n",
        "    )\n",
        "\n",
        "    enviar_feedback.click(\n",
        "        fn=coletar_feedback,\n",
        "        inputs=[saida_recomendacoes, texto_feedback],\n",
        "        outputs=saida_feedback\n",
        "    )\n",
        "\n",
        "    visualizar_feedbacks.click(\n",
        "        fn=visualizar_feedback,\n",
        "        outputs=saida_feedback\n",
        "    )\n",
        "\n",
        "demo.launch(share=True)"
      ],
      "metadata": {
        "colab": {
          "base_uri": "https://localhost:8080/",
          "height": 591
        },
        "id": "7c8tdvj7Ewff",
        "outputId": "6af6d6e3-5268-46be-d7cb-400880e7ade4"
      },
      "execution_count": 26,
      "outputs": [
        {
          "output_type": "stream",
          "name": "stdout",
          "text": [
            "Colab notebook detected. To show errors in colab notebook, set debug=True in launch()\n",
            "Running on public URL: https://c8b81a8297cc0ac7dc.gradio.live\n",
            "\n",
            "This share link expires in 72 hours. For free permanent hosting and GPU upgrades, run `gradio deploy` from Terminal to deploy to Spaces (https://huggingface.co/spaces)\n"
          ]
        },
        {
          "output_type": "display_data",
          "data": {
            "text/plain": [
              "<IPython.core.display.HTML object>"
            ],
            "text/html": [
              "<div><iframe src=\"https://c8b81a8297cc0ac7dc.gradio.live\" width=\"100%\" height=\"500\" allow=\"autoplay; camera; microphone; clipboard-read; clipboard-write;\" frameborder=\"0\" allowfullscreen></iframe></div>"
            ]
          },
          "metadata": {}
        },
        {
          "output_type": "execute_result",
          "data": {
            "text/plain": []
          },
          "metadata": {},
          "execution_count": 26
        }
      ]
    }
  ]
}